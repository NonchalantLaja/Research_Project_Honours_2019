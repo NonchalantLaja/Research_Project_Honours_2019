{
 "cells": [
  {
   "cell_type": "code",
   "execution_count": 1,
   "metadata": {},
   "outputs": [],
   "source": [
    "import numpy as np\n",
    "import matplotlib.pyplot as plt\n",
    "import pandas as pd"
   ]
  },
  {
   "cell_type": "code",
   "execution_count": 3,
   "metadata": {},
   "outputs": [],
   "source": [
    "import pandas_datareader as web\n",
    "import datetime\n",
    "\n",
    "# data from 2014 to 2018\n",
    "#start = datetime.datetime(2014, 9, 10)\n",
    "#end = datetime.datetime(2018,12,31)\n",
    "#df = web.DataReader('TSLA', 'yahoo', start, end) # Tesla stock data"
   ]
  },
  {
   "cell_type": "code",
   "execution_count": 4,
   "metadata": {},
   "outputs": [],
   "source": [
    "df = pd.read_csv('C:/Users/Olatomiwa/Documents/SOL PLAATJE UNIVERSITY/HONOURS 2019/RESEARCH/From Supervisor Dr Mosia/first_yahoo_prices_volumes.csv', index_col = \"Date\", parse_dates=True)"
   ]
  },
  {
   "cell_type": "code",
   "execution_count": 5,
   "metadata": {},
   "outputs": [
    {
     "data": {
      "text/html": [
       "<div>\n",
       "<style scoped>\n",
       "    .dataframe tbody tr th:only-of-type {\n",
       "        vertical-align: middle;\n",
       "    }\n",
       "\n",
       "    .dataframe tbody tr th {\n",
       "        vertical-align: top;\n",
       "    }\n",
       "\n",
       "    .dataframe thead th {\n",
       "        text-align: right;\n",
       "    }\n",
       "</style>\n",
       "<table border=\"1\" class=\"dataframe\">\n",
       "  <thead>\n",
       "    <tr style=\"text-align: right;\">\n",
       "      <th></th>\n",
       "      <th>High</th>\n",
       "      <th>Low</th>\n",
       "      <th>Open</th>\n",
       "      <th>Close</th>\n",
       "      <th>Volume</th>\n",
       "      <th>Adj Close</th>\n",
       "    </tr>\n",
       "    <tr>\n",
       "      <th>Date</th>\n",
       "      <th></th>\n",
       "      <th></th>\n",
       "      <th></th>\n",
       "      <th></th>\n",
       "      <th></th>\n",
       "      <th></th>\n",
       "    </tr>\n",
       "  </thead>\n",
       "  <tbody>\n",
       "    <tr>\n",
       "      <th>2014-09-10</th>\n",
       "      <td>19.680000</td>\n",
       "      <td>19.430000</td>\n",
       "      <td>19.650000</td>\n",
       "      <td>19.610001</td>\n",
       "      <td>4309400.0</td>\n",
       "      <td>18.881136</td>\n",
       "    </tr>\n",
       "    <tr>\n",
       "      <th>2014-09-11</th>\n",
       "      <td>19.540001</td>\n",
       "      <td>19.200001</td>\n",
       "      <td>19.469999</td>\n",
       "      <td>19.410000</td>\n",
       "      <td>6268000.0</td>\n",
       "      <td>18.688570</td>\n",
       "    </tr>\n",
       "    <tr>\n",
       "      <th>2014-09-12</th>\n",
       "      <td>19.530001</td>\n",
       "      <td>19.100000</td>\n",
       "      <td>19.530001</td>\n",
       "      <td>19.120001</td>\n",
       "      <td>6563400.0</td>\n",
       "      <td>18.409348</td>\n",
       "    </tr>\n",
       "    <tr>\n",
       "      <th>2014-09-15</th>\n",
       "      <td>19.209999</td>\n",
       "      <td>18.780001</td>\n",
       "      <td>19.180000</td>\n",
       "      <td>18.860001</td>\n",
       "      <td>7353800.0</td>\n",
       "      <td>18.159008</td>\n",
       "    </tr>\n",
       "    <tr>\n",
       "      <th>2014-09-16</th>\n",
       "      <td>19.240000</td>\n",
       "      <td>18.750000</td>\n",
       "      <td>18.809999</td>\n",
       "      <td>19.139999</td>\n",
       "      <td>5498400.0</td>\n",
       "      <td>18.428604</td>\n",
       "    </tr>\n",
       "  </tbody>\n",
       "</table>\n",
       "</div>"
      ],
      "text/plain": [
       "                 High        Low       Open      Close     Volume  Adj Close\n",
       "Date                                                                        \n",
       "2014-09-10  19.680000  19.430000  19.650000  19.610001  4309400.0  18.881136\n",
       "2014-09-11  19.540001  19.200001  19.469999  19.410000  6268000.0  18.688570\n",
       "2014-09-12  19.530001  19.100000  19.530001  19.120001  6563400.0  18.409348\n",
       "2014-09-15  19.209999  18.780001  19.180000  18.860001  7353800.0  18.159008\n",
       "2014-09-16  19.240000  18.750000  18.809999  19.139999  5498400.0  18.428604"
      ]
     },
     "execution_count": 5,
     "metadata": {},
     "output_type": "execute_result"
    }
   ],
   "source": [
    "df.head()"
   ]
  },
  {
   "cell_type": "code",
   "execution_count": 6,
   "metadata": {},
   "outputs": [
    {
     "data": {
      "text/plain": [
       "High         False\n",
       "Low          False\n",
       "Open         False\n",
       "Close        False\n",
       "Volume       False\n",
       "Adj Close    False\n",
       "dtype: bool"
      ]
     },
     "execution_count": 6,
     "metadata": {},
     "output_type": "execute_result"
    }
   ],
   "source": [
    "df.isna().any()"
   ]
  },
  {
   "cell_type": "code",
   "execution_count": 62,
   "metadata": {},
   "outputs": [],
   "source": [
    "training_set = df[['Volume', 'Adj Close']].values"
   ]
  },
  {
   "cell_type": "markdown",
   "metadata": {},
   "source": [
    "## Feature Scaling"
   ]
  },
  {
   "cell_type": "code",
   "execution_count": 63,
   "metadata": {},
   "outputs": [],
   "source": [
    "# Scaling the data for optimal performance\n",
    "from sklearn.preprocessing import MinMaxScaler\n",
    "sc = MinMaxScaler(feature_range = (0, 1))\n",
    "training_set_scaled = sc.fit_transform(training_set)"
   ]
  },
  {
   "cell_type": "code",
   "execution_count": 64,
   "metadata": {},
   "outputs": [
    {
     "data": {
      "text/plain": [
       "array([[0.03474695, 0.00996007],\n",
       "       [0.05622704, 0.00925369],\n",
       "       [0.05946672, 0.00822942],\n",
       "       ...,\n",
       "       [0.16214805, 0.42137191],\n",
       "       [0.159868  , 0.43045983],\n",
       "       [0.115016  , 0.42991017]])"
      ]
     },
     "execution_count": 64,
     "metadata": {},
     "output_type": "execute_result"
    }
   ],
   "source": [
    "training_set_scaled "
   ]
  },
  {
   "cell_type": "markdown",
   "metadata": {},
   "source": [
    "LSTMs expect our data to be in a specific format, usually a 3D array. We start by creating data in 60 timesteps and converting it into an array using NumPy. Next, we convert the data into a 3D dimension array with X_train samples, 60 timestamps, and one feature at each step"
   ]
  },
  {
   "cell_type": "code",
   "execution_count": 9,
   "metadata": {},
   "outputs": [],
   "source": [
    "X_train = []\n",
    "y_train = []\n",
    "\n",
    "for i in range(60, len(df)):\n",
    "    X_train.append(training_set_scaled[i-60:i, 0])\n",
    "    y_train.append(training_set_scaled[i, 0])\n",
    "X_train, y_train = np.array(X_train), np.array(y_train)\n",
    "\n",
    "X_train = np.reshape(X_train, (X_train.shape[0], X_train.shape[1], 1))"
   ]
  },
  {
   "cell_type": "markdown",
   "metadata": {},
   "source": [
    "## Building the LSTM"
   ]
  },
  {
   "cell_type": "code",
   "execution_count": 10,
   "metadata": {},
   "outputs": [
    {
     "name": "stderr",
     "output_type": "stream",
     "text": [
      "Using TensorFlow backend.\n",
      "C:\\Users\\Olatomiwa\\Anaconda3\\lib\\site-packages\\tensorflow\\python\\framework\\dtypes.py:516: FutureWarning: Passing (type, 1) or '1type' as a synonym of type is deprecated; in a future version of numpy, it will be understood as (type, (1,)) / '(1,)type'.\n",
      "  _np_qint8 = np.dtype([(\"qint8\", np.int8, 1)])\n",
      "C:\\Users\\Olatomiwa\\Anaconda3\\lib\\site-packages\\tensorflow\\python\\framework\\dtypes.py:517: FutureWarning: Passing (type, 1) or '1type' as a synonym of type is deprecated; in a future version of numpy, it will be understood as (type, (1,)) / '(1,)type'.\n",
      "  _np_quint8 = np.dtype([(\"quint8\", np.uint8, 1)])\n",
      "C:\\Users\\Olatomiwa\\Anaconda3\\lib\\site-packages\\tensorflow\\python\\framework\\dtypes.py:518: FutureWarning: Passing (type, 1) or '1type' as a synonym of type is deprecated; in a future version of numpy, it will be understood as (type, (1,)) / '(1,)type'.\n",
      "  _np_qint16 = np.dtype([(\"qint16\", np.int16, 1)])\n",
      "C:\\Users\\Olatomiwa\\Anaconda3\\lib\\site-packages\\tensorflow\\python\\framework\\dtypes.py:519: FutureWarning: Passing (type, 1) or '1type' as a synonym of type is deprecated; in a future version of numpy, it will be understood as (type, (1,)) / '(1,)type'.\n",
      "  _np_quint16 = np.dtype([(\"quint16\", np.uint16, 1)])\n",
      "C:\\Users\\Olatomiwa\\Anaconda3\\lib\\site-packages\\tensorflow\\python\\framework\\dtypes.py:520: FutureWarning: Passing (type, 1) or '1type' as a synonym of type is deprecated; in a future version of numpy, it will be understood as (type, (1,)) / '(1,)type'.\n",
      "  _np_qint32 = np.dtype([(\"qint32\", np.int32, 1)])\n",
      "C:\\Users\\Olatomiwa\\Anaconda3\\lib\\site-packages\\tensorflow\\python\\framework\\dtypes.py:525: FutureWarning: Passing (type, 1) or '1type' as a synonym of type is deprecated; in a future version of numpy, it will be understood as (type, (1,)) / '(1,)type'.\n",
      "  np_resource = np.dtype([(\"resource\", np.ubyte, 1)])\n",
      "C:\\Users\\Olatomiwa\\Anaconda3\\lib\\site-packages\\tensorboard\\compat\\tensorflow_stub\\dtypes.py:541: FutureWarning: Passing (type, 1) or '1type' as a synonym of type is deprecated; in a future version of numpy, it will be understood as (type, (1,)) / '(1,)type'.\n",
      "  _np_qint8 = np.dtype([(\"qint8\", np.int8, 1)])\n",
      "C:\\Users\\Olatomiwa\\Anaconda3\\lib\\site-packages\\tensorboard\\compat\\tensorflow_stub\\dtypes.py:542: FutureWarning: Passing (type, 1) or '1type' as a synonym of type is deprecated; in a future version of numpy, it will be understood as (type, (1,)) / '(1,)type'.\n",
      "  _np_quint8 = np.dtype([(\"quint8\", np.uint8, 1)])\n",
      "C:\\Users\\Olatomiwa\\Anaconda3\\lib\\site-packages\\tensorboard\\compat\\tensorflow_stub\\dtypes.py:543: FutureWarning: Passing (type, 1) or '1type' as a synonym of type is deprecated; in a future version of numpy, it will be understood as (type, (1,)) / '(1,)type'.\n",
      "  _np_qint16 = np.dtype([(\"qint16\", np.int16, 1)])\n",
      "C:\\Users\\Olatomiwa\\Anaconda3\\lib\\site-packages\\tensorboard\\compat\\tensorflow_stub\\dtypes.py:544: FutureWarning: Passing (type, 1) or '1type' as a synonym of type is deprecated; in a future version of numpy, it will be understood as (type, (1,)) / '(1,)type'.\n",
      "  _np_quint16 = np.dtype([(\"quint16\", np.uint16, 1)])\n",
      "C:\\Users\\Olatomiwa\\Anaconda3\\lib\\site-packages\\tensorboard\\compat\\tensorflow_stub\\dtypes.py:545: FutureWarning: Passing (type, 1) or '1type' as a synonym of type is deprecated; in a future version of numpy, it will be understood as (type, (1,)) / '(1,)type'.\n",
      "  _np_qint32 = np.dtype([(\"qint32\", np.int32, 1)])\n",
      "C:\\Users\\Olatomiwa\\Anaconda3\\lib\\site-packages\\tensorboard\\compat\\tensorflow_stub\\dtypes.py:550: FutureWarning: Passing (type, 1) or '1type' as a synonym of type is deprecated; in a future version of numpy, it will be understood as (type, (1,)) / '(1,)type'.\n",
      "  np_resource = np.dtype([(\"resource\", np.ubyte, 1)])\n"
     ]
    }
   ],
   "source": [
    "from keras.models import Sequential\n",
    "from keras.layers import Dense\n",
    "from keras.layers import LSTM\n",
    "from keras.layers import Dropout"
   ]
  },
  {
   "cell_type": "markdown",
   "metadata": {},
   "source": [
    "We add the LSTM layer and later add a few Dropout layers to prevent overfitting. We add the LSTM layer with the following arguments:\n",
    "\n",
    "+ 50 units which is the dimensionality of the output space\n",
    "\n",
    "+ return_sequences=True which determines whether to return the last output in the output sequence, or the full sequence\n",
    "\n",
    "+ input_shape as the shape of our training set.\n",
    "\n",
    "When defining the Dropout layers, we specify 0.2, meaning that 20% of the layers will be dropped. Thereafter, we add the Dense layer that specifies the output of 1 unit. After this, we compile our model using the popular adam optimizer and set the loss as the mean_squarred_error. This will compute the mean of the squared errors. Next, we fit the model to run on 100 epochs with a batch size of 32. Keep in mind that, depending on the specs of your computer, this might take a few minutes to finish running."
   ]
  },
  {
   "cell_type": "code",
   "execution_count": 11,
   "metadata": {},
   "outputs": [
    {
     "name": "stderr",
     "output_type": "stream",
     "text": [
      "WARNING: Logging before flag parsing goes to stderr.\n",
      "W1117 21:52:03.874985  6968 deprecation_wrapper.py:119] From C:\\Users\\Olatomiwa\\Anaconda3\\lib\\site-packages\\keras\\backend\\tensorflow_backend.py:74: The name tf.get_default_graph is deprecated. Please use tf.compat.v1.get_default_graph instead.\n",
      "\n",
      "W1117 21:52:04.425497  6968 deprecation_wrapper.py:119] From C:\\Users\\Olatomiwa\\Anaconda3\\lib\\site-packages\\keras\\backend\\tensorflow_backend.py:517: The name tf.placeholder is deprecated. Please use tf.compat.v1.placeholder instead.\n",
      "\n",
      "W1117 21:52:04.504652  6968 deprecation_wrapper.py:119] From C:\\Users\\Olatomiwa\\Anaconda3\\lib\\site-packages\\keras\\backend\\tensorflow_backend.py:4138: The name tf.random_uniform is deprecated. Please use tf.random.uniform instead.\n",
      "\n",
      "W1117 21:52:05.286293  6968 deprecation_wrapper.py:119] From C:\\Users\\Olatomiwa\\Anaconda3\\lib\\site-packages\\keras\\backend\\tensorflow_backend.py:133: The name tf.placeholder_with_default is deprecated. Please use tf.compat.v1.placeholder_with_default instead.\n",
      "\n",
      "W1117 21:52:05.297023  6968 deprecation.py:506] From C:\\Users\\Olatomiwa\\Anaconda3\\lib\\site-packages\\keras\\backend\\tensorflow_backend.py:3445: calling dropout (from tensorflow.python.ops.nn_ops) with keep_prob is deprecated and will be removed in a future version.\n",
      "Instructions for updating:\n",
      "Please use `rate` instead of `keep_prob`. Rate should be set to `rate = 1 - keep_prob`.\n",
      "W1117 21:52:06.175885  6968 deprecation_wrapper.py:119] From C:\\Users\\Olatomiwa\\Anaconda3\\lib\\site-packages\\keras\\optimizers.py:790: The name tf.train.Optimizer is deprecated. Please use tf.compat.v1.train.Optimizer instead.\n",
      "\n",
      "W1117 21:52:06.969022  6968 deprecation.py:323] From C:\\Users\\Olatomiwa\\Anaconda3\\lib\\site-packages\\tensorflow\\python\\ops\\math_grad.py:1250: add_dispatch_support.<locals>.wrapper (from tensorflow.python.ops.array_ops) is deprecated and will be removed in a future version.\n",
      "Instructions for updating:\n",
      "Use tf.where in 2.0, which has the same broadcast rule as np.where\n",
      "W1117 21:52:10.213966  6968 deprecation_wrapper.py:119] From C:\\Users\\Olatomiwa\\Anaconda3\\lib\\site-packages\\keras\\backend\\tensorflow_backend.py:986: The name tf.assign_add is deprecated. Please use tf.compat.v1.assign_add instead.\n",
      "\n"
     ]
    },
    {
     "name": "stdout",
     "output_type": "stream",
     "text": [
      "Epoch 1/100\n",
      "1025/1025 [==============================] - 10s 10ms/step - loss: 0.0088\n",
      "Epoch 2/100\n",
      "1025/1025 [==============================] - 6s 6ms/step - loss: 0.0069\n",
      "Epoch 3/100\n",
      "1025/1025 [==============================] - 6s 6ms/step - loss: 0.0065\n",
      "Epoch 4/100\n",
      "1025/1025 [==============================] - 6s 6ms/step - loss: 0.0064\n",
      "Epoch 5/100\n",
      "1025/1025 [==============================] - 6s 6ms/step - loss: 0.0063\n",
      "Epoch 6/100\n",
      "1025/1025 [==============================] - 6s 6ms/step - loss: 0.0062\n",
      "Epoch 7/100\n",
      "1025/1025 [==============================] - 6s 6ms/step - loss: 0.0062\n",
      "Epoch 8/100\n",
      "1025/1025 [==============================] - 6s 6ms/step - loss: 0.0062\n",
      "Epoch 9/100\n",
      "1025/1025 [==============================] - 6s 6ms/step - loss: 0.0064\n",
      "Epoch 10/100\n",
      "1025/1025 [==============================] - 6s 6ms/step - loss: 0.0061\n",
      "Epoch 11/100\n",
      "1025/1025 [==============================] - 6s 6ms/step - loss: 0.0060\n",
      "Epoch 12/100\n",
      "1025/1025 [==============================] - 6s 6ms/step - loss: 0.0060\n",
      "Epoch 13/100\n",
      "1025/1025 [==============================] - 6s 5ms/step - loss: 0.0059\n",
      "Epoch 14/100\n",
      "1025/1025 [==============================] - 6s 6ms/step - loss: 0.0059\n",
      "Epoch 15/100\n",
      "1025/1025 [==============================] - 6s 6ms/step - loss: 0.0057\n",
      "Epoch 16/100\n",
      "1025/1025 [==============================] - 5s 5ms/step - loss: 0.0055\n",
      "Epoch 17/100\n",
      "1025/1025 [==============================] - 5s 5ms/step - loss: 0.0053\n",
      "Epoch 18/100\n",
      "1025/1025 [==============================] - 5s 5ms/step - loss: 0.0054\n",
      "Epoch 19/100\n",
      "1025/1025 [==============================] - 6s 5ms/step - loss: 0.0055\n",
      "Epoch 20/100\n",
      "1025/1025 [==============================] - 6s 5ms/step - loss: 0.0050\n",
      "Epoch 21/100\n",
      "1025/1025 [==============================] - 5s 5ms/step - loss: 0.0050\n",
      "Epoch 22/100\n",
      "1025/1025 [==============================] - 6s 6ms/step - loss: 0.0048\n",
      "Epoch 23/100\n",
      "1025/1025 [==============================] - 6s 6ms/step - loss: 0.0048\n",
      "Epoch 24/100\n",
      "1025/1025 [==============================] - 6s 6ms/step - loss: 0.0046\n",
      "Epoch 25/100\n",
      "1025/1025 [==============================] - 6s 6ms/step - loss: 0.0047\n",
      "Epoch 26/100\n",
      "1025/1025 [==============================] - 6s 6ms/step - loss: 0.0045\n",
      "Epoch 27/100\n",
      "1025/1025 [==============================] - 6s 6ms/step - loss: 0.0046\n",
      "Epoch 28/100\n",
      "1025/1025 [==============================] - 6s 5ms/step - loss: 0.0059\n",
      "Epoch 29/100\n",
      "1025/1025 [==============================] - 6s 5ms/step - loss: 0.0045\n",
      "Epoch 30/100\n",
      "1025/1025 [==============================] - 6s 5ms/step - loss: 0.0043\n",
      "Epoch 31/100\n",
      "1025/1025 [==============================] - 6s 5ms/step - loss: 0.0046\n",
      "Epoch 32/100\n",
      "1025/1025 [==============================] - 6s 6ms/step - loss: 0.0044\n",
      "Epoch 33/100\n",
      "1025/1025 [==============================] - 6s 6ms/step - loss: 0.0042\n",
      "Epoch 34/100\n",
      "1025/1025 [==============================] - 6s 6ms/step - loss: 0.0041\n",
      "Epoch 35/100\n",
      "1025/1025 [==============================] - 6s 6ms/step - loss: 0.0042\n",
      "Epoch 36/100\n",
      "1025/1025 [==============================] - 6s 6ms/step - loss: 0.0043\n",
      "Epoch 37/100\n",
      "1025/1025 [==============================] - 6s 6ms/step - loss: 0.0042\n",
      "Epoch 38/100\n",
      "1025/1025 [==============================] - 6s 6ms/step - loss: 0.0042\n",
      "Epoch 39/100\n",
      "1025/1025 [==============================] - 6s 6ms/step - loss: 0.0042\n",
      "Epoch 40/100\n",
      "1025/1025 [==============================] - 6s 6ms/step - loss: 0.0041\n",
      "Epoch 41/100\n",
      "1025/1025 [==============================] - 6s 6ms/step - loss: 0.0041\n",
      "Epoch 42/100\n",
      "1025/1025 [==============================] - 6s 6ms/step - loss: 0.0041\n",
      "Epoch 43/100\n",
      "1025/1025 [==============================] - 6s 6ms/step - loss: 0.0041\n",
      "Epoch 44/100\n",
      "1025/1025 [==============================] - 6s 6ms/step - loss: 0.0042\n",
      "Epoch 45/100\n",
      "1025/1025 [==============================] - 6s 6ms/step - loss: 0.0041\n",
      "Epoch 46/100\n",
      "1025/1025 [==============================] - 6s 6ms/step - loss: 0.0040\n",
      "Epoch 47/100\n",
      "1025/1025 [==============================] - 6s 6ms/step - loss: 0.0041\n",
      "Epoch 48/100\n",
      "1025/1025 [==============================] - 6s 6ms/step - loss: 0.0041\n",
      "Epoch 49/100\n",
      "1025/1025 [==============================] - 6s 6ms/step - loss: 0.0040\n",
      "Epoch 50/100\n",
      "1025/1025 [==============================] - 6s 6ms/step - loss: 0.0041\n",
      "Epoch 51/100\n",
      "1025/1025 [==============================] - 6s 6ms/step - loss: 0.0040\n",
      "Epoch 52/100\n",
      "1025/1025 [==============================] - 6s 6ms/step - loss: 0.0040\n",
      "Epoch 53/100\n",
      "1025/1025 [==============================] - 6s 6ms/step - loss: 0.0040\n",
      "Epoch 54/100\n",
      "1025/1025 [==============================] - 6s 6ms/step - loss: 0.0043\n",
      "Epoch 55/100\n",
      "1025/1025 [==============================] - 6s 6ms/step - loss: 0.0039\n",
      "Epoch 56/100\n",
      "1025/1025 [==============================] - 6s 6ms/step - loss: 0.0041\n",
      "Epoch 57/100\n",
      "1025/1025 [==============================] - 6s 6ms/step - loss: 0.0041\n",
      "Epoch 58/100\n",
      "1025/1025 [==============================] - 6s 6ms/step - loss: 0.0041\n",
      "Epoch 59/100\n",
      "1025/1025 [==============================] - 6s 6ms/step - loss: 0.0039\n",
      "Epoch 60/100\n",
      "1025/1025 [==============================] - 6s 6ms/step - loss: 0.0040\n",
      "Epoch 61/100\n",
      "1025/1025 [==============================] - 6s 6ms/step - loss: 0.0040\n",
      "Epoch 62/100\n",
      "1025/1025 [==============================] - 6s 6ms/step - loss: 0.0041\n",
      "Epoch 63/100\n",
      "1025/1025 [==============================] - 6s 6ms/step - loss: 0.0040\n",
      "Epoch 64/100\n",
      "1025/1025 [==============================] - 6s 6ms/step - loss: 0.0041\n",
      "Epoch 65/100\n",
      "1025/1025 [==============================] - 6s 6ms/step - loss: 0.0040\n",
      "Epoch 66/100\n",
      "1025/1025 [==============================] - 6s 6ms/step - loss: 0.0039\n",
      "Epoch 67/100\n",
      "1025/1025 [==============================] - 6s 6ms/step - loss: 0.0041\n",
      "Epoch 68/100\n",
      "1025/1025 [==============================] - 7s 6ms/step - loss: 0.0041\n",
      "Epoch 69/100\n",
      "1025/1025 [==============================] - 7s 6ms/step - loss: 0.0040A: 6s  - ETA: 3\n",
      "Epoch 70/100\n",
      "1025/1025 [==============================] - 7s 6ms/step - loss: 0.0041\n",
      "Epoch 71/100\n",
      "1025/1025 [==============================] - 6s 6ms/step - loss: 0.0043\n",
      "Epoch 72/100\n",
      "1025/1025 [==============================] - 6s 6ms/step - loss: 0.0043\n",
      "Epoch 73/100\n",
      "1025/1025 [==============================] - 6s 6ms/step - loss: 0.0040\n",
      "Epoch 74/100\n",
      "1025/1025 [==============================] - 7s 6ms/step - loss: 0.0040A: 1s - los\n",
      "Epoch 75/100\n",
      "1025/1025 [==============================] - 7s 6ms/step - loss: 0.0040\n",
      "Epoch 76/100\n",
      "1025/1025 [==============================] - 7s 7ms/step - loss: 0.0040\n",
      "Epoch 77/100\n",
      "1025/1025 [==============================] - 7s 6ms/step - loss: 0.0039\n",
      "Epoch 78/100\n",
      "1025/1025 [==============================] - 7s 7ms/step - loss: 0.0039\n",
      "Epoch 79/100\n",
      "1025/1025 [==============================] - 7s 7ms/step - loss: 0.0039\n",
      "Epoch 80/100\n",
      "1025/1025 [==============================] - 7s 7ms/step - loss: 0.0039\n",
      "Epoch 81/100\n",
      "1025/1025 [==============================] - 7s 7ms/step - loss: 0.0040\n",
      "Epoch 82/100\n",
      "1025/1025 [==============================] - 7s 6ms/step - loss: 0.0039\n",
      "Epoch 83/100\n",
      "1025/1025 [==============================] - 7s 6ms/step - loss: 0.0040\n",
      "Epoch 84/100\n",
      "1025/1025 [==============================] - 6s 6ms/step - loss: 0.0040\n",
      "Epoch 85/100\n",
      "1025/1025 [==============================] - 6s 6ms/step - loss: 0.0039\n",
      "Epoch 86/100\n",
      "1025/1025 [==============================] - 6s 6ms/step - loss: 0.0040\n",
      "Epoch 87/100\n",
      "1025/1025 [==============================] - 6s 6ms/step - loss: 0.0039\n",
      "Epoch 88/100\n",
      "1025/1025 [==============================] - 7s 7ms/step - loss: 0.0039\n",
      "Epoch 89/100\n",
      "1025/1025 [==============================] - 7s 7ms/step - loss: 0.0039\n",
      "Epoch 90/100\n",
      "1025/1025 [==============================] - 6s 6ms/step - loss: 0.0039\n",
      "Epoch 91/100\n",
      "1025/1025 [==============================] - 6s 6ms/step - loss: 0.0039\n",
      "Epoch 92/100\n",
      "1025/1025 [==============================] - 6s 6ms/step - loss: 0.0039\n",
      "Epoch 93/100\n",
      "1025/1025 [==============================] - 6s 6ms/step - loss: 0.0039\n",
      "Epoch 94/100\n",
      "1025/1025 [==============================] - 6s 6ms/step - loss: 0.0039\n",
      "Epoch 95/100\n",
      "1025/1025 [==============================] - 7s 7ms/step - loss: 0.0039\n",
      "Epoch 96/100\n",
      "1025/1025 [==============================] - 7s 7ms/step - loss: 0.0039\n",
      "Epoch 97/100\n"
     ]
    },
    {
     "name": "stdout",
     "output_type": "stream",
     "text": [
      "1025/1025 [==============================] - 7s 7ms/step - loss: 0.0038\n",
      "Epoch 98/100\n",
      "1025/1025 [==============================] - 7s 6ms/step - loss: 0.0040\n",
      "Epoch 99/100\n",
      "1025/1025 [==============================] - 7s 7ms/step - loss: 0.0041\n",
      "Epoch 100/100\n",
      "1025/1025 [==============================] - 6s 6ms/step - loss: 0.0040\n"
     ]
    },
    {
     "data": {
      "text/plain": [
       "<keras.callbacks.History at 0x1f0cb1509e8>"
      ]
     },
     "execution_count": 11,
     "metadata": {},
     "output_type": "execute_result"
    }
   ],
   "source": [
    "regressor = Sequential()\n",
    "\n",
    "regressor.add(LSTM(units = 50, return_sequences = True, input_shape = (X_train.shape[1], 1)))\n",
    "regressor.add(Dropout(0.2))\n",
    "\n",
    "regressor.add(LSTM(units = 50, return_sequences = True))\n",
    "regressor.add(Dropout(0.2))\n",
    "\n",
    "regressor.add(LSTM(units = 50, return_sequences = True))\n",
    "regressor.add(Dropout(0.2))\n",
    "\n",
    "regressor.add(LSTM(units = 50))\n",
    "regressor.add(Dropout(0.2))\n",
    "\n",
    "regressor.add(Dense(units = 1))\n",
    "\n",
    "regressor.compile(optimizer = 'adam', loss = 'mean_squared_error')\n",
    "\n",
    "regressor.fit(X_train, y_train, epochs = 100, batch_size = 32)"
   ]
  },
  {
   "cell_type": "markdown",
   "metadata": {},
   "source": [
    "## Predicting Future Stock using the Test Set"
   ]
  },
  {
   "cell_type": "code",
   "execution_count": 19,
   "metadata": {},
   "outputs": [],
   "source": [
    "dataset = df.head(1025)"
   ]
  },
  {
   "cell_type": "code",
   "execution_count": 13,
   "metadata": {},
   "outputs": [],
   "source": [
    "dataset_test = df.tail(60)\n",
    "real_stock_price = dataset_test.iloc[:, 5:6].values"
   ]
  },
  {
   "cell_type": "markdown",
   "metadata": {},
   "source": [
    "In order to predict future stock prices we need to do a couple of things after loading in the test set:\n",
    "\n",
    "+ Merge the training set and the test set on the 0 axis.\n",
    "+ Set the time step as 60 (as seen previously)\n",
    "+ Use MinMaxScaler to transform the new dataset\n",
    "+ Reshape the dataset as done previously\n",
    "\n",
    "After making the predictions we use inverse_transform to get back the stock prices in normal readable format."
   ]
  },
  {
   "cell_type": "code",
   "execution_count": 67,
   "metadata": {},
   "outputs": [
    {
     "data": {
      "text/plain": [
       "array([[4.30940000e+06, 1.88811359e+01],\n",
       "       [6.26800000e+06, 1.86885700e+01],\n",
       "       [6.56340000e+06, 1.84093475e+01],\n",
       "       ...,\n",
       "       [1.59261000e+07, 1.31034958e+02],\n",
       "       [1.57182000e+07, 1.33512390e+02],\n",
       "       [1.16285000e+07, 1.33362549e+02]])"
      ]
     },
     "execution_count": 67,
     "metadata": {},
     "output_type": "execute_result"
    }
   ],
   "source": [
    "dataset_total.values"
   ]
  },
  {
   "cell_type": "code",
   "execution_count": 68,
   "metadata": {},
   "outputs": [],
   "source": [
    "dataset_total = pd.concat((dataset[['Volume', 'Adj Close']], dataset_test[['Volume', 'Adj Close']]), axis = 0)\n",
    "inputs = dataset_total[len(dataset_total) - len(dataset_test) - 60:].values\n",
    "#inputs = inputs.reshape(-1,1)\n",
    "inputs = sc.transform(inputs)"
   ]
  },
  {
   "cell_type": "code",
   "execution_count": 75,
   "metadata": {},
   "outputs": [
    {
     "data": {
      "text/plain": [
       "array([[0.08824758, 0.84637161],\n",
       "       [0.0822157 , 0.85990931],\n",
       "       [0.05520382, 0.85292102],\n",
       "       [0.04150815, 0.84882303],\n",
       "       [0.08677471, 0.86891008],\n",
       "       [0.06360788, 0.86162899],\n",
       "       [0.05212317, 0.86283645],\n",
       "       [0.0484492 , 0.85866536],\n",
       "       [0.07017276, 0.85325025],\n",
       "       [0.084714  , 0.85068913],\n",
       "       [0.07497853, 0.86225102],\n",
       "       [0.07662688, 0.87311772],\n",
       "       [0.06848274, 0.8627999 ],\n",
       "       [0.08079875, 0.8339316 ],\n",
       "       [0.06534835, 0.83660255],\n",
       "       [0.06522991, 0.84249326],\n",
       "       [0.06142214, 0.85767742],\n",
       "       [0.04623824, 0.86309253],\n",
       "       [0.04437932, 0.87015409],\n",
       "       [0.05825924, 0.88083793],\n",
       "       [0.05934717, 0.88621654],\n",
       "       [0.04340655, 0.87904504],\n",
       "       [0.05778327, 0.8729348 ],\n",
       "       [0.08997928, 0.87780103],\n",
       "       [0.11531211, 0.89722945],\n",
       "       [0.14956115, 0.88863113],\n",
       "       [0.20717224, 0.88263088],\n",
       "       [0.3009209 , 0.83645618],\n",
       "       [0.2217387 , 0.84750586],\n",
       "       [0.17227723, 0.86755636],\n",
       "       [0.19307847, 0.90231531],\n",
       "       [0.18508019, 0.91702393],\n",
       "       [0.13321365, 0.93670837],\n",
       "       [0.12615744, 0.95017291],\n",
       "       [0.11782466, 0.94461161],\n",
       "       [0.10266927, 0.96020662],\n",
       "       [0.08251729, 0.95771736],\n",
       "       [0.07154584, 0.96822393],\n",
       "       [0.09488595, 0.97927983],\n",
       "       [0.09527967, 0.9599506 ],\n",
       "       [0.0759886 , 0.93908366],\n",
       "       [0.06848274, 0.93593537],\n",
       "       [0.04784272, 0.94644205],\n",
       "       [0.05414111, 0.93937651],\n",
       "       [0.10239071, 0.92253665],\n",
       "       [0.07125631, 0.93403171],\n",
       "       [0.09357429, 0.95266542],\n",
       "       [0.04383645, 0.94351329],\n",
       "       [0.06960686, 0.93286019],\n",
       "       [0.04913684, 0.93637477],\n",
       "       [0.10554155, 0.91550783],\n",
       "       [0.10678741, 0.90514769],\n",
       "       [0.06806928, 0.91338453],\n",
       "       [0.06436132, 0.9233055 ],\n",
       "       [0.06111507, 0.91785077],\n",
       "       [0.04627663, 0.919608  ],\n",
       "       [0.18198528, 0.96946856],\n",
       "       [0.15803979, 1.        ],\n",
       "       [0.09275943, 0.98945694],\n",
       "       [0.07537335, 0.99037199],\n",
       "       [0.09474886, 0.96313538],\n",
       "       [0.1044591 , 0.92861359],\n",
       "       [0.09951734, 0.91364078],\n",
       "       [0.06247279, 0.91279893],\n",
       "       [0.17528002, 0.84013106],\n",
       "       [0.18638307, 0.8014726 ],\n",
       "       [0.15424957, 0.8432428 ],\n",
       "       [0.11079916, 0.80238782],\n",
       "       [0.09954476, 0.84064361],\n",
       "       [0.07787274, 0.83050305],\n",
       "       [0.13115951, 0.81758027],\n",
       "       [0.15572245, 0.779654  ],\n",
       "       [0.08861388, 0.78715871],\n",
       "       [0.15923959, 0.74996452],\n",
       "       [0.22993658, 0.67070733],\n",
       "       [0.24842486, 0.70156823],\n",
       "       [0.16975371, 0.6666071 ],\n",
       "       [0.19531575, 0.62022423],\n",
       "       [0.20879866, 0.68384975],\n",
       "       [0.19195873, 0.71251413],\n",
       "       [0.14281421, 0.73916504],\n",
       "       [0.11167652, 0.72748694],\n",
       "       [0.09148945, 0.71595533],\n",
       "       [0.06946758, 0.71335609],\n",
       "       [0.12013542, 0.72335016],\n",
       "       [0.12768625, 0.69479565],\n",
       "       [0.10078623, 0.69362418],\n",
       "       [0.15668426, 0.63457479],\n",
       "       [0.16425044, 0.67034121],\n",
       "       [0.13186141, 0.66258025],\n",
       "       [0.21798796, 0.68161663],\n",
       "       [0.52583676, 0.54265106],\n",
       "       [0.45298803, 0.47042258],\n",
       "       [0.4514011 , 0.4864571 ],\n",
       "       [0.26865251, 0.47045925],\n",
       "       [0.10043748, 0.47152084],\n",
       "       [0.21089337, 0.50099069],\n",
       "       [0.18984428, 0.50348   ],\n",
       "       [0.20806715, 0.52668976],\n",
       "       [0.13805561, 0.51734531],\n",
       "       [0.18751487, 0.53958881],\n",
       "       [0.23172311, 0.56381119],\n",
       "       [0.21014761, 0.51642914],\n",
       "       [0.17730015, 0.52075326],\n",
       "       [0.1743851 , 0.48161634],\n",
       "       [0.16007199, 0.49719053],\n",
       "       [0.17170804, 0.48374177],\n",
       "       [0.16683428, 0.48634353],\n",
       "       [0.11672795, 0.48630692],\n",
       "       [0.1168475 , 0.47736554],\n",
       "       [0.16922839, 0.46684839],\n",
       "       [0.14222309, 0.47916117],\n",
       "       [0.19184686, 0.44826932],\n",
       "       [0.19300499, 0.4357734 ],\n",
       "       [0.2243028 , 0.41550874],\n",
       "       [0.11465957, 0.40638407],\n",
       "       [0.17806565, 0.42844439],\n",
       "       [0.16214805, 0.42137191],\n",
       "       [0.159868  , 0.43045983],\n",
       "       [0.115016  , 0.42991017]])"
      ]
     },
     "execution_count": 75,
     "metadata": {},
     "output_type": "execute_result"
    }
   ],
   "source": [
    "inputs"
   ]
  },
  {
   "cell_type": "code",
   "execution_count": 95,
   "metadata": {},
   "outputs": [],
   "source": [
    "X_test = []"
   ]
  },
  {
   "cell_type": "code",
   "execution_count": 96,
   "metadata": {},
   "outputs": [
    {
     "ename": "ValueError",
     "evalue": "Error when checking input: expected lstm_1_input to have shape (60, 1) but got array with shape (60, 2)",
     "output_type": "error",
     "traceback": [
      "\u001b[1;31m---------------------------------------------------------------------------\u001b[0m",
      "\u001b[1;31mValueError\u001b[0m                                Traceback (most recent call last)",
      "\u001b[1;32m<ipython-input-96-86cc4b935440>\u001b[0m in \u001b[0;36m<module>\u001b[1;34m()\u001b[0m\n\u001b[0;32m      3\u001b[0m \u001b[0mX_test\u001b[0m \u001b[1;33m=\u001b[0m \u001b[0mnp\u001b[0m\u001b[1;33m.\u001b[0m\u001b[0marray\u001b[0m\u001b[1;33m(\u001b[0m\u001b[0mX_test\u001b[0m\u001b[1;33m)\u001b[0m\u001b[1;33m\u001b[0m\u001b[0m\n\u001b[0;32m      4\u001b[0m \u001b[1;31m#X_test = np.reshape(X_test, (X_test.shape[0], X_test.shape[1], 1))\u001b[0m\u001b[1;33m\u001b[0m\u001b[1;33m\u001b[0m\u001b[0m\n\u001b[1;32m----> 5\u001b[1;33m \u001b[0mpredicted_stock_price\u001b[0m \u001b[1;33m=\u001b[0m \u001b[0mregressor\u001b[0m\u001b[1;33m.\u001b[0m\u001b[0mpredict\u001b[0m\u001b[1;33m(\u001b[0m\u001b[0mX_test\u001b[0m\u001b[1;33m)\u001b[0m\u001b[1;33m\u001b[0m\u001b[0m\n\u001b[0m\u001b[0;32m      6\u001b[0m \u001b[0mpredicted_stock_price\u001b[0m \u001b[1;33m=\u001b[0m \u001b[0msc\u001b[0m\u001b[1;33m.\u001b[0m\u001b[0minverse_transform\u001b[0m\u001b[1;33m(\u001b[0m\u001b[0mpredicted_stock_price\u001b[0m\u001b[1;33m)\u001b[0m\u001b[1;33m\u001b[0m\u001b[0m\n",
      "\u001b[1;32m~\\Anaconda3\\lib\\site-packages\\keras\\engine\\training.py\u001b[0m in \u001b[0;36mpredict\u001b[1;34m(self, x, batch_size, verbose, steps)\u001b[0m\n\u001b[0;32m   1147\u001b[0m                              'argument.')\n\u001b[0;32m   1148\u001b[0m         \u001b[1;31m# Validate user data.\u001b[0m\u001b[1;33m\u001b[0m\u001b[1;33m\u001b[0m\u001b[0m\n\u001b[1;32m-> 1149\u001b[1;33m         \u001b[0mx\u001b[0m\u001b[1;33m,\u001b[0m \u001b[0m_\u001b[0m\u001b[1;33m,\u001b[0m \u001b[0m_\u001b[0m \u001b[1;33m=\u001b[0m \u001b[0mself\u001b[0m\u001b[1;33m.\u001b[0m\u001b[0m_standardize_user_data\u001b[0m\u001b[1;33m(\u001b[0m\u001b[0mx\u001b[0m\u001b[1;33m)\u001b[0m\u001b[1;33m\u001b[0m\u001b[0m\n\u001b[0m\u001b[0;32m   1150\u001b[0m         \u001b[1;32mif\u001b[0m \u001b[0mself\u001b[0m\u001b[1;33m.\u001b[0m\u001b[0mstateful\u001b[0m\u001b[1;33m:\u001b[0m\u001b[1;33m\u001b[0m\u001b[0m\n\u001b[0;32m   1151\u001b[0m             \u001b[1;32mif\u001b[0m \u001b[0mx\u001b[0m\u001b[1;33m[\u001b[0m\u001b[1;36m0\u001b[0m\u001b[1;33m]\u001b[0m\u001b[1;33m.\u001b[0m\u001b[0mshape\u001b[0m\u001b[1;33m[\u001b[0m\u001b[1;36m0\u001b[0m\u001b[1;33m]\u001b[0m \u001b[1;33m>\u001b[0m \u001b[0mbatch_size\u001b[0m \u001b[1;32mand\u001b[0m \u001b[0mx\u001b[0m\u001b[1;33m[\u001b[0m\u001b[1;36m0\u001b[0m\u001b[1;33m]\u001b[0m\u001b[1;33m.\u001b[0m\u001b[0mshape\u001b[0m\u001b[1;33m[\u001b[0m\u001b[1;36m0\u001b[0m\u001b[1;33m]\u001b[0m \u001b[1;33m%\u001b[0m \u001b[0mbatch_size\u001b[0m \u001b[1;33m!=\u001b[0m \u001b[1;36m0\u001b[0m\u001b[1;33m:\u001b[0m\u001b[1;33m\u001b[0m\u001b[0m\n",
      "\u001b[1;32m~\\Anaconda3\\lib\\site-packages\\keras\\engine\\training.py\u001b[0m in \u001b[0;36m_standardize_user_data\u001b[1;34m(self, x, y, sample_weight, class_weight, check_array_lengths, batch_size)\u001b[0m\n\u001b[0;32m    749\u001b[0m             \u001b[0mfeed_input_shapes\u001b[0m\u001b[1;33m,\u001b[0m\u001b[1;33m\u001b[0m\u001b[0m\n\u001b[0;32m    750\u001b[0m             \u001b[0mcheck_batch_axis\u001b[0m\u001b[1;33m=\u001b[0m\u001b[1;32mFalse\u001b[0m\u001b[1;33m,\u001b[0m  \u001b[1;31m# Don't enforce the batch size.\u001b[0m\u001b[1;33m\u001b[0m\u001b[0m\n\u001b[1;32m--> 751\u001b[1;33m             exception_prefix='input')\n\u001b[0m\u001b[0;32m    752\u001b[0m \u001b[1;33m\u001b[0m\u001b[0m\n\u001b[0;32m    753\u001b[0m         \u001b[1;32mif\u001b[0m \u001b[0my\u001b[0m \u001b[1;32mis\u001b[0m \u001b[1;32mnot\u001b[0m \u001b[1;32mNone\u001b[0m\u001b[1;33m:\u001b[0m\u001b[1;33m\u001b[0m\u001b[0m\n",
      "\u001b[1;32m~\\Anaconda3\\lib\\site-packages\\keras\\engine\\training_utils.py\u001b[0m in \u001b[0;36mstandardize_input_data\u001b[1;34m(data, names, shapes, check_batch_axis, exception_prefix)\u001b[0m\n\u001b[0;32m    136\u001b[0m                             \u001b[1;34m': expected '\u001b[0m \u001b[1;33m+\u001b[0m \u001b[0mnames\u001b[0m\u001b[1;33m[\u001b[0m\u001b[0mi\u001b[0m\u001b[1;33m]\u001b[0m \u001b[1;33m+\u001b[0m \u001b[1;34m' to have shape '\u001b[0m \u001b[1;33m+\u001b[0m\u001b[1;33m\u001b[0m\u001b[0m\n\u001b[0;32m    137\u001b[0m                             \u001b[0mstr\u001b[0m\u001b[1;33m(\u001b[0m\u001b[0mshape\u001b[0m\u001b[1;33m)\u001b[0m \u001b[1;33m+\u001b[0m \u001b[1;34m' but got array with shape '\u001b[0m \u001b[1;33m+\u001b[0m\u001b[1;33m\u001b[0m\u001b[0m\n\u001b[1;32m--> 138\u001b[1;33m                             str(data_shape))\n\u001b[0m\u001b[0;32m    139\u001b[0m     \u001b[1;32mreturn\u001b[0m \u001b[0mdata\u001b[0m\u001b[1;33m\u001b[0m\u001b[0m\n\u001b[0;32m    140\u001b[0m \u001b[1;33m\u001b[0m\u001b[0m\n",
      "\u001b[1;31mValueError\u001b[0m: Error when checking input: expected lstm_1_input to have shape (60, 1) but got array with shape (60, 2)"
     ]
    }
   ],
   "source": [
    "for i in range(60, 80):\n",
    "    X_test.append(inputs[i-60:i,])\n",
    "X_test = np.array(X_test)\n",
    "#X_test = np.reshape(X_test, (X_test.shape[0], X_test.shape[1], 1))\n",
    "predicted_stock_price = regressor.predict(X_test)\n",
    "predicted_stock_price = sc.inverse_transform(predicted_stock_price)"
   ]
  },
  {
   "cell_type": "markdown",
   "metadata": {},
   "source": [
    "## Plotting the Results"
   ]
  },
  {
   "cell_type": "code",
   "execution_count": 49,
   "metadata": {},
   "outputs": [
    {
     "name": "stdout",
     "output_type": "stream",
     "text": [
      "Help on method inverse_transform in module sklearn.preprocessing.data:\n",
      "\n",
      "inverse_transform(X) method of sklearn.preprocessing.data.MinMaxScaler instance\n",
      "    Undo the scaling of X according to feature_range.\n",
      "    \n",
      "    Parameters\n",
      "    ----------\n",
      "    X : array-like, shape [n_samples, n_features]\n",
      "        Input data that will be transformed. It cannot be sparse.\n",
      "\n"
     ]
    }
   ],
   "source": [
    "help(sc.inverse_transform)"
   ]
  },
  {
   "cell_type": "code",
   "execution_count": 50,
   "metadata": {},
   "outputs": [
    {
     "data": {
      "image/png": "[encoded data removed]",
      "text/plain": [
       "<Figure size 432x288 with 1 Axes>"
      ]
     },
     "metadata": {},
     "output_type": "display_data"
    }
   ],
   "source": [
    "plt.plot(real_stock_price, color = 'black', label = 'Stock Price')\n",
    "plt.plot(predicted_stock_price, color = 'green', label = 'Predicted Stock Price')\n",
    "plt.title('Stock Price Prediction')\n",
    "plt.xlabel('Time')\n",
    "plt.ylabel('Stock Price')\n",
    "plt.legend()\n",
    "plt.show()"
   ]
  },
  {
   "cell_type": "markdown",
   "metadata": {},
   "source": [
    "From the plot we can see that the real stock price went up while our model also predicted that the price of the stock will go up. This clearly shows how powerful LSTMs are for analyzing time series and sequential data.\n",
    "\n",
    "There are a couple of other techniques of predicting stock prices such as moving averages, linear regression, K-Nearest Neighbours, ARIMA and Prophet. These are techniques that one can test on their own and compare their performance with the Keras LSTM."
   ]
  },
  {
   "cell_type": "code",
   "execution_count": null,
   "metadata": {},
   "outputs": [],
   "source": [
    "# Rolling mean\n",
    "df['Adj Close: 30 Day Mean'] = df['Adj Close'].rolling(window = 30).mean()\n",
    "df[['Adj Close', 'Adj Close: 30 Day Mean']].plot(figsize = 16, 16)\n",
    "plt.show()"
   ]
  },
  {
   "cell_type": "code",
   "execution_count": null,
   "metadata": {},
   "outputs": [],
   "source": []
  },
  {
   "cell_type": "code",
   "execution_count": 52,
   "metadata": {},
   "outputs": [],
   "source": [
    "# Feature Scaling Normalization\n",
    "from sklearn.preprocessing import MinMaxScaler\n",
    "sc = MinMaxScaler(feature_range = (0, 1))\n",
    "training_set_scaled = sc.fit_transform(training_set)\n",
    "# Creating a data structure with 60 timesteps and 1 output\n",
    "X_train = []\n",
    "y_train = []\n",
    "for i in range(60, 1085):\n",
    "    X_train.append(training_set_scaled[i-60:i, 0])\n",
    "    y_train.append(training_set_scaled[i, 0])\n",
    "X_train, y_train = np.array(X_train), np.array(y_train)\n",
    "\n",
    "# Reshaping\n",
    "X_train = np.reshape(X_train, (X_train.shape[0], X_train.shape[1], 1))"
   ]
  },
  {
   "cell_type": "code",
   "execution_count": 54,
   "metadata": {},
   "outputs": [
    {
     "name": "stdout",
     "output_type": "stream",
     "text": [
      "Epoch 1/50\n",
      "1025/1025 [==============================] - 11s 11ms/step - loss: 0.0083\n",
      "Epoch 2/50\n",
      "1025/1025 [==============================] - 6s 6ms/step - loss: 0.0065\n",
      "Epoch 3/50\n",
      "1025/1025 [==============================] - 6s 6ms/step - loss: 0.0065\n",
      "Epoch 4/50\n",
      "1025/1025 [==============================] - 6s 6ms/step - loss: 0.0064\n",
      "Epoch 5/50\n",
      "1025/1025 [==============================] - 6s 6ms/step - loss: 0.0066\n",
      "Epoch 6/50\n",
      "1025/1025 [==============================] - 6s 6ms/step - loss: 0.0066\n",
      "Epoch 7/50\n",
      "1025/1025 [==============================] - 6s 6ms/step - loss: 0.0066\n",
      "Epoch 8/50\n",
      "1025/1025 [==============================] - 6s 6ms/step - loss: 0.0063\n",
      "Epoch 9/50\n",
      "1025/1025 [==============================] - 5s 5ms/step - loss: 0.0064\n",
      "Epoch 10/50\n",
      "1025/1025 [==============================] - 6s 5ms/step - loss: 0.0063\n",
      "Epoch 11/50\n",
      "1025/1025 [==============================] - 5s 5ms/step - loss: 0.0060\n",
      "Epoch 12/50\n",
      "1025/1025 [==============================] - 5s 5ms/step - loss: 0.0062\n",
      "Epoch 13/50\n",
      "1025/1025 [==============================] - 6s 5ms/step - loss: 0.0060\n",
      "Epoch 14/50\n",
      "1025/1025 [==============================] - 6s 5ms/step - loss: 0.0060\n",
      "Epoch 15/50\n",
      "1025/1025 [==============================] - 6s 5ms/step - loss: 0.0056\n",
      "Epoch 16/50\n",
      "1025/1025 [==============================] - 5s 5ms/step - loss: 0.0058\n",
      "Epoch 17/50\n",
      "1025/1025 [==============================] - 5s 5ms/step - loss: 0.0055\n",
      "Epoch 18/50\n",
      "1025/1025 [==============================] - 5s 5ms/step - loss: 0.0055\n",
      "Epoch 19/50\n",
      "1025/1025 [==============================] - 5s 5ms/step - loss: 0.0054\n",
      "Epoch 20/50\n",
      "1025/1025 [==============================] - 5s 5ms/step - loss: 0.0052\n",
      "Epoch 21/50\n",
      "1025/1025 [==============================] - 6s 5ms/step - loss: 0.0051\n",
      "Epoch 22/50\n",
      "1025/1025 [==============================] - 6s 6ms/step - loss: 0.0049\n",
      "Epoch 23/50\n",
      "1025/1025 [==============================] - 6s 6ms/step - loss: 0.0050\n",
      "Epoch 24/50\n",
      "1025/1025 [==============================] - 6s 6ms/step - loss: 0.0048\n",
      "Epoch 25/50\n",
      "1025/1025 [==============================] - 6s 6ms/step - loss: 0.0046\n",
      "Epoch 26/50\n",
      "1025/1025 [==============================] - 6s 6ms/step - loss: 0.0048\n",
      "Epoch 27/50\n",
      "1025/1025 [==============================] - 6s 6ms/step - loss: 0.0045\n",
      "Epoch 28/50\n",
      "1025/1025 [==============================] - 5s 5ms/step - loss: 0.0044\n",
      "Epoch 29/50\n",
      "1025/1025 [==============================] - 5s 5ms/step - loss: 0.0043\n",
      "Epoch 30/50\n",
      "1025/1025 [==============================] - 6s 5ms/step - loss: 0.0042\n",
      "Epoch 31/50\n",
      "1025/1025 [==============================] - 7s 7ms/step - loss: 0.0045\n",
      "Epoch 32/50\n",
      "1025/1025 [==============================] - 6s 6ms/step - loss: 0.0042\n",
      "Epoch 33/50\n",
      "1025/1025 [==============================] - 7s 7ms/step - loss: 0.0043\n",
      "Epoch 34/50\n",
      "1025/1025 [==============================] - 6s 6ms/step - loss: 0.0043\n",
      "Epoch 35/50\n",
      "1025/1025 [==============================] - 7s 7ms/step - loss: 0.0043\n",
      "Epoch 36/50\n",
      "1025/1025 [==============================] - 7s 7ms/step - loss: 0.0042\n",
      "Epoch 37/50\n",
      "1025/1025 [==============================] - 6s 6ms/step - loss: 0.0041\n",
      "Epoch 38/50\n",
      "1025/1025 [==============================] - 7s 6ms/step - loss: 0.0041\n",
      "Epoch 39/50\n",
      "1025/1025 [==============================] - 6s 6ms/step - loss: 0.0041\n",
      "Epoch 40/50\n",
      "1025/1025 [==============================] - 6s 6ms/step - loss: 0.0041\n",
      "Epoch 41/50\n",
      "1025/1025 [==============================] - 7s 7ms/step - loss: 0.0041\n",
      "Epoch 42/50\n",
      "1025/1025 [==============================] - 7s 7ms/step - loss: 0.0041\n",
      "Epoch 43/50\n",
      "1025/1025 [==============================] - 7s 6ms/step - loss: 0.0046\n",
      "Epoch 44/50\n",
      "1025/1025 [==============================] - 5s 5ms/step - loss: 0.0045\n",
      "Epoch 45/50\n",
      "1025/1025 [==============================] - 7s 7ms/step - loss: 0.0042\n",
      "Epoch 46/50\n",
      "1025/1025 [==============================] - 6s 6ms/step - loss: 0.0040\n",
      "Epoch 47/50\n",
      "1025/1025 [==============================] - 5s 5ms/step - loss: 0.0039\n",
      "Epoch 48/50\n",
      "1025/1025 [==============================] - 6s 6ms/step - loss: 0.0041\n",
      "Epoch 49/50\n",
      "1025/1025 [==============================] - 6s 6ms/step - loss: 0.0040\n",
      "Epoch 50/50\n",
      "1025/1025 [==============================] - 6s 5ms/step - loss: 0.0040\n"
     ]
    },
    {
     "data": {
      "text/plain": [
       "<keras.callbacks.History at 0x14a56861c88>"
      ]
     },
     "execution_count": 54,
     "metadata": {},
     "output_type": "execute_result"
    }
   ],
   "source": [
    "# Initialising the RNN\n",
    "regressor = Sequential()\n",
    "# Adding the first LSTM layer and some Dropout regularisation\n",
    "regressor.add(LSTM(units = 50, return_sequences = True, input_shape = (X_train.shape[1], 1)))\n",
    "regressor.add(Dropout(0.2))\n",
    "\n",
    "# Adding a second LSTM layer and some Dropout regularisation\n",
    "regressor.add(LSTM(units = 50, return_sequences = True))\n",
    "regressor.add(Dropout(0.2))\n",
    "\n",
    "# Adding a third LSTM layer and some Dropout regularisation\n",
    "regressor.add(LSTM(units = 50, return_sequences = True))\n",
    "regressor.add(Dropout(0.2))\n",
    "\n",
    "# Adding a fourth LSTM layer and some Dropout regularisation\n",
    "regressor.add(LSTM(units = 50))\n",
    "regressor.add(Dropout(0.2))\n",
    "\n",
    "# Adding the output layer\n",
    "regressor.add(Dense(units = 1))\n",
    "# Compiling the RNN\n",
    "regressor.compile(optimizer = 'adam', loss = 'mean_squared_error')\n",
    "\n",
    "# Fitting the RNN to the Training set\n",
    "regressor.fit(X_train, y_train, epochs = 50, batch_size = 32)"
   ]
  },
  {
   "cell_type": "code",
   "execution_count": null,
   "metadata": {},
   "outputs": [],
   "source": [
    "# Getting the real stock price of 2017\n",
    "dataset_test = pd.read_csv('Google_Stock_Price_Test.csv',index_col=\"Date\",parse_dates=True)\n",
    "real_stock_price = dataset_test.iloc[:, 1:2].values\n",
    "# Getting the predicted stock price\n",
    "dataset_total = pd.concat((dataset['Open'], dataset_test['Open']), axis = 0)\n",
    "inputs = dataset_total[len(dataset_total) - len(dataset_test) - 60:].values\n",
    "inputs = inputs.reshape(-1,1)\n",
    "inputs = sc.transform(inputs)\n",
    "X_test = []\n",
    "for i in range(60, 80):\n",
    "    X_test.append(inputs[i-60:i, 0])\n",
    "X_test = np.array(X_test)\n",
    "X_test = np.reshape(X_test, (X_test.shape[0], X_test.shape[1], 1))\n",
    "predicted_stock_price = regressor.predict(X_test)\n",
    "predicted_stock_price = sc.inverse_transform(predicted_stock_price)"
   ]
  }
 ],
 "metadata": {
  "kernelspec": {
   "display_name": "Python 3",
   "language": "python",
   "name": "python3"
  },
  "language_info": {
   "codemirror_mode": {
    "name": "ipython",
    "version": 3
   },
   "file_extension": ".py",
   "mimetype": "text/x-python",
   "name": "python",
   "nbconvert_exporter": "python",
   "pygments_lexer": "ipython3",
   "version": "3.6.3"
  }
 },
 "nbformat": 4,
 "nbformat_minor": 2
}
