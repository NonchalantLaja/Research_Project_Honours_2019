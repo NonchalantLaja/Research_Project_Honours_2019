{
 "cells": [
  {
   "cell_type": "code",
   "execution_count": 1,
   "metadata": {},
   "outputs": [],
   "source": [
    "import numpy as np\n",
    "import pandas as pd\n",
    "import matplotlib.pyplot as plt\n",
    "from collections import Counter\n",
    "import datetime\n",
    "from matplotlib import style\n",
    "style.use('ggplot')\n",
    "import math\n",
    "from sklearn import preprocessing\n",
    "from sklearn.linear_model import LinearRegression\n",
    "import warnings\n",
    "warnings.filterwarnings('ignore')"
   ]
  },
  {
   "cell_type": "code",
   "execution_count": 2,
   "metadata": {},
   "outputs": [],
   "source": [
    "df = pd.read_csv('C:/Users/Olatomiwa/Documents/SOL PLAATJE UNIVERSITY/HONOURS 2019/RESEARCH/From Supervisor Dr Mosia/first_yahoo_prices_volumes.csv')"
   ]
  },
  {
   "cell_type": "code",
   "execution_count": 3,
   "metadata": {},
   "outputs": [
    {
     "data": {
      "text/html": [
       "<div>\n",
       "<style scoped>\n",
       "    .dataframe tbody tr th:only-of-type {\n",
       "        vertical-align: middle;\n",
       "    }\n",
       "\n",
       "    .dataframe tbody tr th {\n",
       "        vertical-align: top;\n",
       "    }\n",
       "\n",
       "    .dataframe thead th {\n",
       "        text-align: right;\n",
       "    }\n",
       "</style>\n",
       "<table border=\"1\" class=\"dataframe\">\n",
       "  <thead>\n",
       "    <tr style=\"text-align: right;\">\n",
       "      <th></th>\n",
       "      <th>Date</th>\n",
       "      <th>High</th>\n",
       "      <th>Low</th>\n",
       "      <th>Open</th>\n",
       "      <th>Close</th>\n",
       "      <th>Volume</th>\n",
       "      <th>Adj Close</th>\n",
       "    </tr>\n",
       "  </thead>\n",
       "  <tbody>\n",
       "    <tr>\n",
       "      <th>0</th>\n",
       "      <td>2014-09-10</td>\n",
       "      <td>19.680000</td>\n",
       "      <td>19.430000</td>\n",
       "      <td>19.650000</td>\n",
       "      <td>19.610001</td>\n",
       "      <td>4309400.0</td>\n",
       "      <td>18.881136</td>\n",
       "    </tr>\n",
       "    <tr>\n",
       "      <th>1</th>\n",
       "      <td>2014-09-11</td>\n",
       "      <td>19.540001</td>\n",
       "      <td>19.200001</td>\n",
       "      <td>19.469999</td>\n",
       "      <td>19.410000</td>\n",
       "      <td>6268000.0</td>\n",
       "      <td>18.688570</td>\n",
       "    </tr>\n",
       "    <tr>\n",
       "      <th>2</th>\n",
       "      <td>2014-09-12</td>\n",
       "      <td>19.530001</td>\n",
       "      <td>19.100000</td>\n",
       "      <td>19.530001</td>\n",
       "      <td>19.120001</td>\n",
       "      <td>6563400.0</td>\n",
       "      <td>18.409348</td>\n",
       "    </tr>\n",
       "    <tr>\n",
       "      <th>3</th>\n",
       "      <td>2014-09-15</td>\n",
       "      <td>19.209999</td>\n",
       "      <td>18.780001</td>\n",
       "      <td>19.180000</td>\n",
       "      <td>18.860001</td>\n",
       "      <td>7353800.0</td>\n",
       "      <td>18.159008</td>\n",
       "    </tr>\n",
       "    <tr>\n",
       "      <th>4</th>\n",
       "      <td>2014-09-16</td>\n",
       "      <td>19.240000</td>\n",
       "      <td>18.750000</td>\n",
       "      <td>18.809999</td>\n",
       "      <td>19.139999</td>\n",
       "      <td>5498400.0</td>\n",
       "      <td>18.428604</td>\n",
       "    </tr>\n",
       "  </tbody>\n",
       "</table>\n",
       "</div>"
      ],
      "text/plain": [
       "         Date       High        Low       Open      Close     Volume  \\\n",
       "0  2014-09-10  19.680000  19.430000  19.650000  19.610001  4309400.0   \n",
       "1  2014-09-11  19.540001  19.200001  19.469999  19.410000  6268000.0   \n",
       "2  2014-09-12  19.530001  19.100000  19.530001  19.120001  6563400.0   \n",
       "3  2014-09-15  19.209999  18.780001  19.180000  18.860001  7353800.0   \n",
       "4  2014-09-16  19.240000  18.750000  18.809999  19.139999  5498400.0   \n",
       "\n",
       "   Adj Close  \n",
       "0  18.881136  \n",
       "1  18.688570  \n",
       "2  18.409348  \n",
       "3  18.159008  \n",
       "4  18.428604  "
      ]
     },
     "execution_count": 3,
     "metadata": {},
     "output_type": "execute_result"
    }
   ],
   "source": [
    "df.head()"
   ]
  },
  {
   "cell_type": "markdown",
   "metadata": {},
   "source": [
    "+ Checking the change after 7 dqys\n",
    "+ Lag the data for past 7 days\n",
    "+ Compare and map the target values\n",
    "+ 1 = Gain; 0 = Fall;"
   ]
  },
  {
   "cell_type": "code",
   "execution_count": 4,
   "metadata": {},
   "outputs": [],
   "source": [
    "# takes the 7 day percent changes for the prices in the future\n",
    "def gain_fall(*args): # *args lets us pass any parameters, any number of arguments which becomes an iterable\n",
    "    cols = [c for c in args] # passing each column mapping it row wise\n",
    "    for col in cols:\n",
    "        if(col > 0):\n",
    "            return(1)   # GAIN\n",
    "        if(col < 0):\n",
    "            return(0)# FALL"
   ]
  },
  {
   "cell_type": "code",
   "execution_count": 5,
   "metadata": {},
   "outputs": [
    {
     "data": {
      "text/html": [
       "<div>\n",
       "<style scoped>\n",
       "    .dataframe tbody tr th:only-of-type {\n",
       "        vertical-align: middle;\n",
       "    }\n",
       "\n",
       "    .dataframe tbody tr th {\n",
       "        vertical-align: top;\n",
       "    }\n",
       "\n",
       "    .dataframe thead th {\n",
       "        text-align: right;\n",
       "    }\n",
       "</style>\n",
       "<table border=\"1\" class=\"dataframe\">\n",
       "  <thead>\n",
       "    <tr style=\"text-align: right;\">\n",
       "      <th></th>\n",
       "      <th>Date</th>\n",
       "      <th>High</th>\n",
       "      <th>Low</th>\n",
       "      <th>Open</th>\n",
       "      <th>Close</th>\n",
       "      <th>Volume</th>\n",
       "      <th>Adj Close</th>\n",
       "      <th>1day_Lag</th>\n",
       "      <th>1day_target</th>\n",
       "    </tr>\n",
       "  </thead>\n",
       "  <tbody>\n",
       "    <tr>\n",
       "      <th>0</th>\n",
       "      <td>2014-09-10</td>\n",
       "      <td>19.680000</td>\n",
       "      <td>19.430000</td>\n",
       "      <td>19.650000</td>\n",
       "      <td>19.610001</td>\n",
       "      <td>4309400.0</td>\n",
       "      <td>18.881136</td>\n",
       "      <td>-0.010199</td>\n",
       "      <td>0.0</td>\n",
       "    </tr>\n",
       "    <tr>\n",
       "      <th>1</th>\n",
       "      <td>2014-09-11</td>\n",
       "      <td>19.540001</td>\n",
       "      <td>19.200001</td>\n",
       "      <td>19.469999</td>\n",
       "      <td>19.410000</td>\n",
       "      <td>6268000.0</td>\n",
       "      <td>18.688570</td>\n",
       "      <td>-0.014941</td>\n",
       "      <td>0.0</td>\n",
       "    </tr>\n",
       "    <tr>\n",
       "      <th>2</th>\n",
       "      <td>2014-09-12</td>\n",
       "      <td>19.530001</td>\n",
       "      <td>19.100000</td>\n",
       "      <td>19.530001</td>\n",
       "      <td>19.120001</td>\n",
       "      <td>6563400.0</td>\n",
       "      <td>18.409348</td>\n",
       "      <td>-0.013598</td>\n",
       "      <td>0.0</td>\n",
       "    </tr>\n",
       "    <tr>\n",
       "      <th>3</th>\n",
       "      <td>2014-09-15</td>\n",
       "      <td>19.209999</td>\n",
       "      <td>18.780001</td>\n",
       "      <td>19.180000</td>\n",
       "      <td>18.860001</td>\n",
       "      <td>7353800.0</td>\n",
       "      <td>18.159008</td>\n",
       "      <td>0.014846</td>\n",
       "      <td>1.0</td>\n",
       "    </tr>\n",
       "    <tr>\n",
       "      <th>4</th>\n",
       "      <td>2014-09-16</td>\n",
       "      <td>19.240000</td>\n",
       "      <td>18.750000</td>\n",
       "      <td>18.809999</td>\n",
       "      <td>19.139999</td>\n",
       "      <td>5498400.0</td>\n",
       "      <td>18.428604</td>\n",
       "      <td>0.000523</td>\n",
       "      <td>1.0</td>\n",
       "    </tr>\n",
       "  </tbody>\n",
       "</table>\n",
       "</div>"
      ],
      "text/plain": [
       "         Date       High        Low       Open      Close     Volume  \\\n",
       "0  2014-09-10  19.680000  19.430000  19.650000  19.610001  4309400.0   \n",
       "1  2014-09-11  19.540001  19.200001  19.469999  19.410000  6268000.0   \n",
       "2  2014-09-12  19.530001  19.100000  19.530001  19.120001  6563400.0   \n",
       "3  2014-09-15  19.209999  18.780001  19.180000  18.860001  7353800.0   \n",
       "4  2014-09-16  19.240000  18.750000  18.809999  19.139999  5498400.0   \n",
       "\n",
       "   Adj Close  1day_Lag  1day_target  \n",
       "0  18.881136 -0.010199          0.0  \n",
       "1  18.688570 -0.014941          0.0  \n",
       "2  18.409348 -0.013598          0.0  \n",
       "3  18.159008  0.014846          1.0  \n",
       "4  18.428604  0.000523          1.0  "
      ]
     },
     "execution_count": 5,
     "metadata": {},
     "output_type": "execute_result"
    }
   ],
   "source": [
    "df['1day_Lag'] = (df['Adj Close'].shift(-1) - df['Adj Close']) / df['Adj Close']\n",
    "# .shift shifts up to get the future value old - new divided by \n",
    "        \n",
    "df['1day_target'] = list(map(gain_fall, *[df['1day_Lag']]))\n",
    "\n",
    "df.dropna(inplace = True)\n",
    "df.head()"
   ]
  },
  {
   "cell_type": "code",
   "execution_count": 6,
   "metadata": {},
   "outputs": [],
   "source": [
    "df['1day_target'] = df['1day_target'].shift(1)"
   ]
  },
  {
   "cell_type": "code",
   "execution_count": 7,
   "metadata": {},
   "outputs": [
    {
     "data": {
      "text/plain": [
       "0    NaN\n",
       "1    0.0\n",
       "2    0.0\n",
       "3    0.0\n",
       "4    1.0\n",
       "Name: 1day_target, dtype: float64"
      ]
     },
     "execution_count": 7,
     "metadata": {},
     "output_type": "execute_result"
    }
   ],
   "source": [
    "df['1day_target'].head()"
   ]
  },
  {
   "cell_type": "code",
   "execution_count": 8,
   "metadata": {},
   "outputs": [
    {
     "data": {
      "text/plain": [
       "0    0.0\n",
       "1    0.0\n",
       "2    0.0\n",
       "3    0.0\n",
       "4    1.0\n",
       "Name: 1day_target, dtype: float64"
      ]
     },
     "execution_count": 8,
     "metadata": {},
     "output_type": "execute_result"
    }
   ],
   "source": [
    "df['1day_target'].fillna(0, inplace = True)\n",
    "df['1day_target'].head()"
   ]
  },
  {
   "cell_type": "code",
   "execution_count": 9,
   "metadata": {},
   "outputs": [
    {
     "name": "stdout",
     "output_type": "stream",
     "text": [
      "Data spread:  Counter({'1.0': 584, '0.0': 497})\n"
     ]
    }
   ],
   "source": [
    "# The distribution of the 1day_target mapping\n",
    "vals = df['1day_target'].values #.tolist optional \n",
    "str_vals = [str(i) for i in vals]\n",
    "\n",
    "print('Data spread: ', Counter(str_vals)) # seeing th way in which buys/sell/hold are distributed"
   ]
  },
  {
   "cell_type": "code",
   "execution_count": 10,
   "metadata": {},
   "outputs": [
    {
     "data": {
      "image/png": "[encoded data removed]",
      "text/plain": [
       "<Figure size 432x288 with 1 Axes>"
      ]
     },
     "metadata": {},
     "output_type": "display_data"
    }
   ],
   "source": [
    "df['Adj Close'].plot()\n",
    "plt.show()"
   ]
  },
  {
   "cell_type": "code",
   "execution_count": 11,
   "metadata": {},
   "outputs": [],
   "source": [
    "# return of Adj price (Normalised by one day)\n",
    "df_return = df['Adj Close'].pct_change()"
   ]
  },
  {
   "cell_type": "code",
   "execution_count": 12,
   "metadata": {},
   "outputs": [],
   "source": [
    "df_return = df_return.replace([np.inf, -np.inf], np.nan) # replacing infinite changes with nan\n",
    "df_return.dropna(inplace = True)"
   ]
  },
  {
   "cell_type": "code",
   "execution_count": 13,
   "metadata": {},
   "outputs": [
    {
     "data": {
      "image/png": "[encoded data removed]",
      "text/plain": [
       "<Figure size 432x288 with 1 Axes>"
      ]
     },
     "metadata": {},
     "output_type": "display_data"
    }
   ],
   "source": [
    "df_return.plot()\n",
    "plt.show()"
   ]
  },
  {
   "cell_type": "markdown",
   "metadata": {},
   "source": [
    "days = 7 # Number of days\n",
    "for i in range(1, days + 1):\n",
    "    #### Company name and days into the future\n",
    "    df['{}day_Lag'.format(i)] = (df['Adj Close'].shift(-i) - df['Adj Close']) / df['Adj Close']\n",
    "    #### .shift shifts up to get the future value old - new divided by \n",
    "        \n",
    "    df['{}day_target'.format(i)] = list(map(gain_fall, *[df['{}day_Lag'.format(i)]for i in range(1, days+1)]))\n",
    "    \n",
    "df.fillna(0, inplace = True)\n",
    "df.head()"
   ]
  },
  {
   "cell_type": "code",
   "execution_count": 14,
   "metadata": {},
   "outputs": [],
   "source": [
    "data = {'x_features': df['Adj Close'].pct_change(),\n",
    "                     'y_target': df['1day_target']}\n",
    "frame = pd.DataFrame(data)"
   ]
  },
  {
   "cell_type": "code",
   "execution_count": 15,
   "metadata": {},
   "outputs": [],
   "source": [
    "frame.dropna(inplace = True)"
   ]
  },
  {
   "cell_type": "code",
   "execution_count": 16,
   "metadata": {},
   "outputs": [
    {
     "data": {
      "text/html": [
       "<div>\n",
       "<style scoped>\n",
       "    .dataframe tbody tr th:only-of-type {\n",
       "        vertical-align: middle;\n",
       "    }\n",
       "\n",
       "    .dataframe tbody tr th {\n",
       "        vertical-align: top;\n",
       "    }\n",
       "\n",
       "    .dataframe thead th {\n",
       "        text-align: right;\n",
       "    }\n",
       "</style>\n",
       "<table border=\"1\" class=\"dataframe\">\n",
       "  <thead>\n",
       "    <tr style=\"text-align: right;\">\n",
       "      <th></th>\n",
       "      <th>x_features</th>\n",
       "      <th>y_target</th>\n",
       "    </tr>\n",
       "  </thead>\n",
       "  <tbody>\n",
       "    <tr>\n",
       "      <th>1</th>\n",
       "      <td>-0.010199</td>\n",
       "      <td>0.0</td>\n",
       "    </tr>\n",
       "    <tr>\n",
       "      <th>2</th>\n",
       "      <td>-0.014941</td>\n",
       "      <td>0.0</td>\n",
       "    </tr>\n",
       "    <tr>\n",
       "      <th>3</th>\n",
       "      <td>-0.013598</td>\n",
       "      <td>0.0</td>\n",
       "    </tr>\n",
       "    <tr>\n",
       "      <th>4</th>\n",
       "      <td>0.014846</td>\n",
       "      <td>1.0</td>\n",
       "    </tr>\n",
       "    <tr>\n",
       "      <th>5</th>\n",
       "      <td>0.000523</td>\n",
       "      <td>1.0</td>\n",
       "    </tr>\n",
       "  </tbody>\n",
       "</table>\n",
       "</div>"
      ],
      "text/plain": [
       "   x_features  y_target\n",
       "1   -0.010199       0.0\n",
       "2   -0.014941       0.0\n",
       "3   -0.013598       0.0\n",
       "4    0.014846       1.0\n",
       "5    0.000523       1.0"
      ]
     },
     "execution_count": 16,
     "metadata": {},
     "output_type": "execute_result"
    }
   ],
   "source": [
    "frame.head()"
   ]
  },
  {
   "cell_type": "markdown",
   "metadata": {},
   "source": [
    "## Neural Net"
   ]
  },
  {
   "cell_type": "code",
   "execution_count": 17,
   "metadata": {},
   "outputs": [
    {
     "name": "stderr",
     "output_type": "stream",
     "text": [
      "Using TensorFlow backend.\n"
     ]
    }
   ],
   "source": [
    "# Required libraries\n",
    "import tensorflow as tf\n",
    "from tensorflow.keras.models import Sequential\n",
    "from tensorflow.keras.layers import Flatten\n",
    "from tensorflow.keras.layers import Dense\n",
    "from tensorflow.keras.layers import Dropout\n",
    "from tensorflow.keras.layers import LSTM\n",
    "import keras.backend as K"
   ]
  },
  {
   "cell_type": "code",
   "execution_count": 18,
   "metadata": {},
   "outputs": [],
   "source": [
    "from sklearn.model_selection import train_test_split\n",
    "from sklearn.metrics import accuracy_score"
   ]
  },
  {
   "cell_type": "code",
   "execution_count": 19,
   "metadata": {},
   "outputs": [],
   "source": [
    "# Using train_test_fit to create subsets for fitting and testing\n",
    "x_train, x_test, y_train, y_test = train_test_split(frame['x_features'], frame['y_target'], test_size = 0.3, random_state = 23, stratify = frame['y_target'])"
   ]
  },
  {
   "cell_type": "code",
   "execution_count": 20,
   "metadata": {},
   "outputs": [
    {
     "name": "stderr",
     "output_type": "stream",
     "text": [
      "WARNING: Logging before flag parsing goes to stderr.\n",
      "W1117 22:53:45.107851  1708 deprecation.py:506] From C:\\Users\\Olatomiwa\\Anaconda3\\lib\\site-packages\\tensorflow\\python\\ops\\init_ops.py:1251: calling VarianceScaling.__init__ (from tensorflow.python.ops.init_ops) with dtype is deprecated and will be removed in a future version.\n",
      "Instructions for updating:\n",
      "Call initializer instance with the dtype argument instead of passing it to the constructor\n"
     ]
    }
   ],
   "source": [
    "model = Sequential([\n",
    "    # Flattening the input Layer into a vector because it is a matrix\n",
    "    Flatten(),\n",
    "    \n",
    "    #First hidden layer 31647 neurons\n",
    "    Dense(1000, activation = 'relu'), # or tf.nn.relu\n",
    "    \n",
    "    #to prevent overfitting\n",
    "    Dropout(0.20),\n",
    "    \n",
    "    Dense(500, activation = 'relu'),\n",
    "    \n",
    "    Dropout(0.20),\n",
    "    \n",
    "    #output layer with 1 neuron with the sigmoid function to counter for the 2 classes (1 or 0)\n",
    "    Dense(1, activation = 'softmax') # or tf.nn.softmax\n",
    "       \n",
    "])"
   ]
  },
  {
   "cell_type": "code",
   "execution_count": 21,
   "metadata": {},
   "outputs": [],
   "source": [
    "#Compiler; using the adam optimizer and binary_crossentropy for binary classification\n",
    "model.compile(optimizer='adam', loss = 'binary_crossentropy', metrics = ['accuracy'] )"
   ]
  },
  {
   "cell_type": "code",
   "execution_count": 22,
   "metadata": {},
   "outputs": [
    {
     "name": "stderr",
     "output_type": "stream",
     "text": [
      "W1117 22:53:46.556891  1708 deprecation.py:323] From C:\\Users\\Olatomiwa\\Anaconda3\\lib\\site-packages\\tensorflow\\python\\ops\\math_grad.py:1250: add_dispatch_support.<locals>.wrapper (from tensorflow.python.ops.array_ops) is deprecated and will be removed in a future version.\n",
      "Instructions for updating:\n",
      "Use tf.where in 2.0, which has the same broadcast rule as np.where\n"
     ]
    },
    {
     "name": "stdout",
     "output_type": "stream",
     "text": [
      "Epoch 1/20\n",
      "756/756 [==============================] - 2s 3ms/sample - loss: 7.0379 - acc: 0.5410\n",
      "Epoch 2/20\n",
      "756/756 [==============================] - 0s 476us/sample - loss: 7.0379 - acc: 0.5410s - loss: 7.4750 - acc: \n",
      "Epoch 3/20\n",
      "756/756 [==============================] - 0s 484us/sample - loss: 7.0379 - acc: 0.5410\n",
      "Epoch 4/20\n",
      "756/756 [==============================] - 0s 457us/sample - loss: 7.0379 - acc: 0.5410\n",
      "Epoch 5/20\n",
      "756/756 [==============================] - 0s 459us/sample - loss: 7.0379 - acc: 0.5410\n",
      "Epoch 6/20\n",
      "756/756 [==============================] - 0s 459us/sample - loss: 7.0379 - acc: 0.5410\n",
      "Epoch 7/20\n",
      "756/756 [==============================] - 0s 434us/sample - loss: 7.0379 - acc: 0.5410\n",
      "Epoch 8/20\n",
      "756/756 [==============================] - 0s 436us/sample - loss: 7.0379 - acc: 0.5410\n",
      "Epoch 9/20\n",
      "756/756 [==============================] - 0s 444us/sample - loss: 7.0379 - acc: 0.5410\n",
      "Epoch 10/20\n",
      "756/756 [==============================] - 0s 445us/sample - loss: 7.0379 - acc: 0.5410\n",
      "Epoch 11/20\n",
      "756/756 [==============================] - 0s 475us/sample - loss: 7.0379 - acc: 0.5410\n",
      "Epoch 12/20\n",
      "756/756 [==============================] - 0s 462us/sample - loss: 7.0379 - acc: 0.5410\n",
      "Epoch 13/20\n",
      "756/756 [==============================] - 0s 438us/sample - loss: 7.0379 - acc: 0.5410\n",
      "Epoch 14/20\n",
      "756/756 [==============================] - 0s 487us/sample - loss: 7.0379 - acc: 0.5410\n",
      "Epoch 15/20\n",
      "756/756 [==============================] - 0s 492us/sample - loss: 7.0379 - acc: 0.5410\n",
      "Epoch 16/20\n",
      "756/756 [==============================] - 0s 434us/sample - loss: 7.0379 - acc: 0.5410\n",
      "Epoch 17/20\n",
      "756/756 [==============================] - 0s 443us/sample - loss: 7.0379 - acc: 0.5410\n",
      "Epoch 18/20\n",
      "756/756 [==============================] - 0s 464us/sample - loss: 7.0379 - acc: 0.5410\n",
      "Epoch 19/20\n",
      "756/756 [==============================] - 0s 601us/sample - loss: 7.0379 - acc: 0.5410\n",
      "Epoch 20/20\n",
      "756/756 [==============================] - 0s 582us/sample - loss: 7.0379 - acc: 0.5410\n"
     ]
    },
    {
     "data": {
      "text/plain": [
       "<tensorflow.python.keras.callbacks.History at 0x188b60b9e48>"
      ]
     },
     "execution_count": 22,
     "metadata": {},
     "output_type": "execute_result"
    }
   ],
   "source": [
    "# Fitting the data; 10 iterations\n",
    "model.fit(x_train.values, y_train.values, epochs = 20)"
   ]
  },
  {
   "cell_type": "code",
   "execution_count": 23,
   "metadata": {},
   "outputs": [
    {
     "name": "stdout",
     "output_type": "stream",
     "text": [
      "324/324 [==============================] - 0s 493us/sample - loss: 7.0514 - acc: 0.5401\n",
      "\n",
      "Test Data Loss: 7.0513970763595015\n",
      "\n",
      "Test Data Accuracy: 54.012%\n"
     ]
    }
   ],
   "source": [
    "# Evaluating the test dataset\n",
    "eval_array = model.evaluate(x_test, y_test)\n",
    "\n",
    "print(\"\\nTest Data Loss: {}\".format(eval_array[0]))\n",
    "print(\"\\nTest Data Accuracy: {:.5}%\".format(eval_array[1] * 100))"
   ]
  },
  {
   "cell_type": "markdown",
   "metadata": {},
   "source": [
    "## Reccurrent Neural Net "
   ]
  },
  {
   "cell_type": "code",
   "execution_count": 71,
   "metadata": {},
   "outputs": [],
   "source": [
    "model2 = Sequential([\n",
    "    LSTM(800, activation = 'relu', input_shape = (756, 1), return_sequences = True), # or tf.nn.relu\n",
    "    Dropout(0.20),\n",
    "    \n",
    "    LSTM(450, activation = 'relu'), # or tf.nn.relu\n",
    "    Dropout(0.20),\n",
    "    \n",
    "    Dense(200, activation = 'relu'), # or tf.nn.relu\n",
    "    Dropout(0.20),\n",
    "    \n",
    "    #output layer with 1 neuron with the sigmoid function to counter for the 2 classes (1 or 0)\n",
    "    Dense(1, activation = 'softmax') # or tf.nn.softmax\n",
    "       \n",
    "])"
   ]
  },
  {
   "cell_type": "code",
   "execution_count": 74,
   "metadata": {},
   "outputs": [],
   "source": [
    "#Compiler; using the adam optimizer and binary_crossentropy for binary classification\n",
    "model2.compile(optimizer='adam', loss = 'binary_crossentropy', metrics = ['accuracy'] )"
   ]
  },
  {
   "cell_type": "markdown",
   "metadata": {},
   "source": [
    "model2.fit(x_train.values, y_train.values, epochs = 20)"
   ]
  },
  {
   "cell_type": "markdown",
   "metadata": {},
   "source": [
    "eval_array2 = model2.evaluate(x_test, y_test)\n",
    "\n",
    "print(\"\\nTest Data Loss: {}\".format(eval_array2[0]))\n",
    "print(\"\\nTest Data Accuracy: {:.5}%\".format(eval_array2[1] * 100))"
   ]
  },
  {
   "cell_type": "markdown",
   "metadata": {},
   "source": [
    "## Forecasting into the future\n",
    "+ Using linear regression as the classifier\n",
    "+ 30 days into the future\n",
    "\n",
    "import Quandl, math\n",
    "import numpy as np\n",
    "import pandas as pd\n",
    "from sklearn import preprocessing, cross_validation, svm\n",
    "from sklearn.linear_model import LinearRegression\n",
    "\n",
    "df = Quandl.get(\"WIKI/GOOGL\")\n",
    "df = df[['Adj. Open',  'Adj. High',  'Adj. Low',  'Adj. Close', 'Adj. Volume']]\n",
    "df['HL_PCT'] = (df['Adj. High'] - df['Adj. Low']) / df['Adj. Close'] * 100.0\n",
    "df['PCT_change'] = (df['Adj. Close'] - df['Adj. Open']) / df['Adj. Open'] * 100.0\n",
    "\n",
    "df = df[['Adj. Close', 'HL_PCT', 'PCT_change', 'Adj. Volume']]\n",
    "forecast_col = 'Adj. Close'\n",
    "df.fillna(value=-99999, inplace=True)\n",
    "forecast_out = int(math.ceil(0.01 * len(df)))\n",
    "df['label'] = df[forecast_col].shift(-forecast_out)\n",
    "\n",
    "X = np.array(df.drop(['label'], 1))\n",
    "X = preprocessing.scale(X)\n",
    "X = X[:-forecast_out]\n",
    "df.dropna(inplace=True)\n",
    "y = np.array(df['label'])\n",
    "X_train, X_test, y_train, y_test = cross_validation.train_test_split(X, y, test_size=0.2)\n",
    "\n",
    "clf = LinearRegression(n_jobs=-1)\n",
    "clf.fit(X_train, y_train)\n",
    "confidence = clf.score(X_test, y_test)\n",
    "print(confidence)"
   ]
  },
  {
   "cell_type": "code",
   "execution_count": 75,
   "metadata": {},
   "outputs": [],
   "source": [
    "df['PCT_change'] = df['Adj Close'].pct_change()"
   ]
  },
  {
   "cell_type": "code",
   "execution_count": 76,
   "metadata": {},
   "outputs": [],
   "source": [
    "forecast_col = 'Adj Close'"
   ]
  },
  {
   "cell_type": "code",
   "execution_count": 77,
   "metadata": {},
   "outputs": [],
   "source": [
    "df.fillna(value=0, inplace=True)"
   ]
  },
  {
   "cell_type": "code",
   "execution_count": 78,
   "metadata": {},
   "outputs": [],
   "source": [
    "df_new = df[['Adj Close', 'PCT_change', 'Volume']]\n",
    "df_new.index = df['Date']"
   ]
  },
  {
   "cell_type": "code",
   "execution_count": 79,
   "metadata": {},
   "outputs": [],
   "source": [
    "df_new.fillna(value=0, inplace=True)\n",
    "forecast_out = 30 #int(math.ceil(0.01 * len(df_new))) \n",
    "df_new['label'] = df_new[forecast_col].shift(-forecast_out)"
   ]
  },
  {
   "cell_type": "code",
   "execution_count": 80,
   "metadata": {},
   "outputs": [
    {
     "data": {
      "text/plain": [
       "30"
      ]
     },
     "execution_count": 80,
     "metadata": {},
     "output_type": "execute_result"
    }
   ],
   "source": [
    "forecast_out # 30 days "
   ]
  },
  {
   "cell_type": "code",
   "execution_count": 81,
   "metadata": {},
   "outputs": [],
   "source": [
    "new_x = np.array(df_new.drop(['label'], axis = 1))\n",
    "new_x = preprocessing.scale(new_x)\n",
    "new_x = new_x[:-forecast_out]\n",
    "\n",
    "\n",
    "df_new.dropna(inplace=True)\n",
    "new_y = np.array(df_new['label'])\n",
    "X_train, X_test, y_train, y_test = train_test_split(new_x, new_y, test_size=0.2)"
   ]
  },
  {
   "cell_type": "code",
   "execution_count": 82,
   "metadata": {},
   "outputs": [
    {
     "name": "stdout",
     "output_type": "stream",
     "text": [
      "0.9497889185349563\n"
     ]
    }
   ],
   "source": [
    "clf = LinearRegression(n_jobs=-1)\n",
    "clf.fit(X_train, y_train)\n",
    "accuracy = clf.score(X_test, y_test)\n",
    "print(accuracy)"
   ]
  },
  {
   "cell_type": "code",
   "execution_count": 83,
   "metadata": {},
   "outputs": [],
   "source": [
    "newer_x = new_x[: -forecast_out]\n",
    "x_lately = new_x[-forecast_out: ]"
   ]
  },
  {
   "cell_type": "code",
   "execution_count": 84,
   "metadata": {},
   "outputs": [],
   "source": [
    "forecast_set = clf.predict(x_lately)"
   ]
  },
  {
   "cell_type": "code",
   "execution_count": 85,
   "metadata": {},
   "outputs": [
    {
     "name": "stdout",
     "output_type": "stream",
     "text": [
      "[279.44681833 272.68283488 263.98395256 260.22721336 258.88079638\n",
      " 243.0356932  233.9502548  245.03968903 231.38180959 242.29751983\n",
      " 237.99136324 236.54856287 227.17903921 227.49591462 219.61712251\n",
      " 200.84283489 211.74274978 198.40824107 187.0600867  206.5284681\n",
      " 212.44656967 217.4755733  212.52894719 208.80612665 207.5076961\n",
      " 212.20903251 204.30998265 203.57963414 189.12490663 200.73006544] 0.9497889185349563 30\n"
     ]
    }
   ],
   "source": [
    "# Next 30 days of unknown Stock Prices\n",
    "print(forecast_set, accuracy, forecast_out)"
   ]
  },
  {
   "cell_type": "markdown",
   "metadata": {},
   "source": [
    "## Graphing the forecast"
   ]
  },
  {
   "cell_type": "code",
   "execution_count": 86,
   "metadata": {},
   "outputs": [],
   "source": [
    "# adding the forecast column\n",
    "df_new['Forecast'] = np.nan"
   ]
  },
  {
   "cell_type": "code",
   "execution_count": 87,
   "metadata": {},
   "outputs": [],
   "source": [
    "import time"
   ]
  },
  {
   "cell_type": "code",
   "execution_count": 88,
   "metadata": {},
   "outputs": [],
   "source": [
    "# Finding out what the last date was, since it was not included in the model\n",
    "last_date = df_new.iloc[-1].name\n",
    "last_unix = time.mktime(datetime.datetime.strptime(last_date,\"%Y-%m-%d\").timetuple()) # last_date.timestamp()\n",
    "one_day = 86400 # seconds in one day\n",
    "next_unix = last_unix + one_day"
   ]
  },
  {
   "cell_type": "code",
   "execution_count": 89,
   "metadata": {},
   "outputs": [],
   "source": [
    "for i in forecast_set:\n",
    "    next_date = datetime.datetime.fromtimestamp(next_unix)\n",
    "    next_unix += 86400\n",
    "    df_new.loc[next_date] = [np.nan for _ in range(len(df_new.columns)-1)]+[i] # Iterating throught the forecast set\n",
    "    #"
   ]
  },
  {
   "cell_type": "code",
   "execution_count": 90,
   "metadata": {},
   "outputs": [
    {
     "data": {
      "image/png": "[encoded data removed]",
      "text/plain": [
       "<Figure size 432x288 with 1 Axes>"
      ]
     },
     "metadata": {},
     "output_type": "display_data"
    }
   ],
   "source": [
    "df_new['Adj Close'].plot()\n",
    "df_new['Forecast'].plot()\n",
    "plt.legend(loc=4)\n",
    "plt.xlabel('Date')\n",
    "plt.ylabel('Price')\n",
    "plt.show()"
   ]
  },
  {
   "cell_type": "code",
   "execution_count": null,
   "metadata": {},
   "outputs": [],
   "source": []
  }
 ],
 "metadata": {
  "kernelspec": {
   "display_name": "Python 3",
   "language": "python",
   "name": "python3"
  },
  "language_info": {
   "codemirror_mode": {
    "name": "ipython",
    "version": 3
   },
   "file_extension": ".py",
   "mimetype": "text/x-python",
   "name": "python",
   "nbconvert_exporter": "python",
   "pygments_lexer": "ipython3",
   "version": "3.6.3"
  }
 },
 "nbformat": 4,
 "nbformat_minor": 2
}
