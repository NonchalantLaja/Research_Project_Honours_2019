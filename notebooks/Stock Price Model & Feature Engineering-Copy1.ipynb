{
 "cells": [
  {
   "cell_type": "code",
   "execution_count": 36,
   "metadata": {},
   "outputs": [],
   "source": [
    "import numpy as np\n",
    "import pandas as pd\n",
    "import matplotlib.pyplot as plt\n",
    "from collections import Counter\n",
    "import datetime\n",
    "from matplotlib import style\n",
    "style.use('ggplot')\n",
    "import math\n",
    "from sklearn import preprocessing\n",
    "from sklearn.linear_model import LinearRegression\n",
    "import warnings\n",
    "warnings.filterwarnings('ignore')"
   ]
  },
  {
   "cell_type": "code",
   "execution_count": 37,
   "metadata": {},
   "outputs": [],
   "source": [
    "df = pd.read_csv('C:/Users/Olatomiwa/Documents/SOL PLAATJE UNIVERSITY/HONOURS 2019/RESEARCH/From Supervisor Dr Mosia/first_yahoo_prices_volumes.csv')"
   ]
  },
  {
   "cell_type": "code",
   "execution_count": 38,
   "metadata": {},
   "outputs": [
    {
     "data": {
      "text/html": [
       "<div>\n",
       "<style scoped>\n",
       "    .dataframe tbody tr th:only-of-type {\n",
       "        vertical-align: middle;\n",
       "    }\n",
       "\n",
       "    .dataframe tbody tr th {\n",
       "        vertical-align: top;\n",
       "    }\n",
       "\n",
       "    .dataframe thead th {\n",
       "        text-align: right;\n",
       "    }\n",
       "</style>\n",
       "<table border=\"1\" class=\"dataframe\">\n",
       "  <thead>\n",
       "    <tr style=\"text-align: right;\">\n",
       "      <th></th>\n",
       "      <th>Date</th>\n",
       "      <th>High</th>\n",
       "      <th>Low</th>\n",
       "      <th>Open</th>\n",
       "      <th>Close</th>\n",
       "      <th>Volume</th>\n",
       "      <th>Adj Close</th>\n",
       "    </tr>\n",
       "  </thead>\n",
       "  <tbody>\n",
       "    <tr>\n",
       "      <th>0</th>\n",
       "      <td>2014-09-10</td>\n",
       "      <td>19.680000</td>\n",
       "      <td>19.430000</td>\n",
       "      <td>19.650000</td>\n",
       "      <td>19.610001</td>\n",
       "      <td>4309400.0</td>\n",
       "      <td>18.881136</td>\n",
       "    </tr>\n",
       "    <tr>\n",
       "      <th>1</th>\n",
       "      <td>2014-09-11</td>\n",
       "      <td>19.540001</td>\n",
       "      <td>19.200001</td>\n",
       "      <td>19.469999</td>\n",
       "      <td>19.410000</td>\n",
       "      <td>6268000.0</td>\n",
       "      <td>18.688570</td>\n",
       "    </tr>\n",
       "    <tr>\n",
       "      <th>2</th>\n",
       "      <td>2014-09-12</td>\n",
       "      <td>19.530001</td>\n",
       "      <td>19.100000</td>\n",
       "      <td>19.530001</td>\n",
       "      <td>19.120001</td>\n",
       "      <td>6563400.0</td>\n",
       "      <td>18.409348</td>\n",
       "    </tr>\n",
       "    <tr>\n",
       "      <th>3</th>\n",
       "      <td>2014-09-15</td>\n",
       "      <td>19.209999</td>\n",
       "      <td>18.780001</td>\n",
       "      <td>19.180000</td>\n",
       "      <td>18.860001</td>\n",
       "      <td>7353800.0</td>\n",
       "      <td>18.159008</td>\n",
       "    </tr>\n",
       "    <tr>\n",
       "      <th>4</th>\n",
       "      <td>2014-09-16</td>\n",
       "      <td>19.240000</td>\n",
       "      <td>18.750000</td>\n",
       "      <td>18.809999</td>\n",
       "      <td>19.139999</td>\n",
       "      <td>5498400.0</td>\n",
       "      <td>18.428604</td>\n",
       "    </tr>\n",
       "  </tbody>\n",
       "</table>\n",
       "</div>"
      ],
      "text/plain": [
       "         Date       High        Low       Open      Close     Volume  \\\n",
       "0  2014-09-10  19.680000  19.430000  19.650000  19.610001  4309400.0   \n",
       "1  2014-09-11  19.540001  19.200001  19.469999  19.410000  6268000.0   \n",
       "2  2014-09-12  19.530001  19.100000  19.530001  19.120001  6563400.0   \n",
       "3  2014-09-15  19.209999  18.780001  19.180000  18.860001  7353800.0   \n",
       "4  2014-09-16  19.240000  18.750000  18.809999  19.139999  5498400.0   \n",
       "\n",
       "   Adj Close  \n",
       "0  18.881136  \n",
       "1  18.688570  \n",
       "2  18.409348  \n",
       "3  18.159008  \n",
       "4  18.428604  "
      ]
     },
     "execution_count": 38,
     "metadata": {},
     "output_type": "execute_result"
    }
   ],
   "source": [
    "df.head()"
   ]
  },
  {
   "cell_type": "markdown",
   "metadata": {},
   "source": [
    "+ Checking the change after 7 dqys\n",
    "+ Lag the data for past 7 days\n",
    "+ Compare and map the target values\n",
    "+ 1 = Gain; 0 = Fall;"
   ]
  },
  {
   "cell_type": "code",
   "execution_count": 39,
   "metadata": {},
   "outputs": [],
   "source": [
    "def gain_fall(*args): # *args lets us pass any parameters, any number of arguments which becomes an iterable\n",
    "    cols = [c for c in args] # passing each column mapping it row wise\n",
    "    for col in cols:\n",
    "        if(col > 0):\n",
    "            return(1)   # GAIN\n",
    "        if(col < 0):\n",
    "            return(0)# FALL"
   ]
  },
  {
   "cell_type": "code",
   "execution_count": 40,
   "metadata": {},
   "outputs": [
    {
     "data": {
      "text/html": [
       "<div>\n",
       "<style scoped>\n",
       "    .dataframe tbody tr th:only-of-type {\n",
       "        vertical-align: middle;\n",
       "    }\n",
       "\n",
       "    .dataframe tbody tr th {\n",
       "        vertical-align: top;\n",
       "    }\n",
       "\n",
       "    .dataframe thead th {\n",
       "        text-align: right;\n",
       "    }\n",
       "</style>\n",
       "<table border=\"1\" class=\"dataframe\">\n",
       "  <thead>\n",
       "    <tr style=\"text-align: right;\">\n",
       "      <th></th>\n",
       "      <th>Date</th>\n",
       "      <th>High</th>\n",
       "      <th>Low</th>\n",
       "      <th>Open</th>\n",
       "      <th>Close</th>\n",
       "      <th>Volume</th>\n",
       "      <th>Adj Close</th>\n",
       "      <th>1day_Lag</th>\n",
       "      <th>1day_target</th>\n",
       "    </tr>\n",
       "  </thead>\n",
       "  <tbody>\n",
       "    <tr>\n",
       "      <th>0</th>\n",
       "      <td>2014-09-10</td>\n",
       "      <td>19.680000</td>\n",
       "      <td>19.430000</td>\n",
       "      <td>19.650000</td>\n",
       "      <td>19.610001</td>\n",
       "      <td>4309400.0</td>\n",
       "      <td>18.881136</td>\n",
       "      <td>-0.010199</td>\n",
       "      <td>0.0</td>\n",
       "    </tr>\n",
       "    <tr>\n",
       "      <th>1</th>\n",
       "      <td>2014-09-11</td>\n",
       "      <td>19.540001</td>\n",
       "      <td>19.200001</td>\n",
       "      <td>19.469999</td>\n",
       "      <td>19.410000</td>\n",
       "      <td>6268000.0</td>\n",
       "      <td>18.688570</td>\n",
       "      <td>-0.014941</td>\n",
       "      <td>0.0</td>\n",
       "    </tr>\n",
       "    <tr>\n",
       "      <th>2</th>\n",
       "      <td>2014-09-12</td>\n",
       "      <td>19.530001</td>\n",
       "      <td>19.100000</td>\n",
       "      <td>19.530001</td>\n",
       "      <td>19.120001</td>\n",
       "      <td>6563400.0</td>\n",
       "      <td>18.409348</td>\n",
       "      <td>-0.013598</td>\n",
       "      <td>0.0</td>\n",
       "    </tr>\n",
       "    <tr>\n",
       "      <th>3</th>\n",
       "      <td>2014-09-15</td>\n",
       "      <td>19.209999</td>\n",
       "      <td>18.780001</td>\n",
       "      <td>19.180000</td>\n",
       "      <td>18.860001</td>\n",
       "      <td>7353800.0</td>\n",
       "      <td>18.159008</td>\n",
       "      <td>0.014846</td>\n",
       "      <td>1.0</td>\n",
       "    </tr>\n",
       "    <tr>\n",
       "      <th>4</th>\n",
       "      <td>2014-09-16</td>\n",
       "      <td>19.240000</td>\n",
       "      <td>18.750000</td>\n",
       "      <td>18.809999</td>\n",
       "      <td>19.139999</td>\n",
       "      <td>5498400.0</td>\n",
       "      <td>18.428604</td>\n",
       "      <td>0.000523</td>\n",
       "      <td>1.0</td>\n",
       "    </tr>\n",
       "  </tbody>\n",
       "</table>\n",
       "</div>"
      ],
      "text/plain": [
       "         Date       High        Low       Open      Close     Volume  \\\n",
       "0  2014-09-10  19.680000  19.430000  19.650000  19.610001  4309400.0   \n",
       "1  2014-09-11  19.540001  19.200001  19.469999  19.410000  6268000.0   \n",
       "2  2014-09-12  19.530001  19.100000  19.530001  19.120001  6563400.0   \n",
       "3  2014-09-15  19.209999  18.780001  19.180000  18.860001  7353800.0   \n",
       "4  2014-09-16  19.240000  18.750000  18.809999  19.139999  5498400.0   \n",
       "\n",
       "   Adj Close  1day_Lag  1day_target  \n",
       "0  18.881136 -0.010199          0.0  \n",
       "1  18.688570 -0.014941          0.0  \n",
       "2  18.409348 -0.013598          0.0  \n",
       "3  18.159008  0.014846          1.0  \n",
       "4  18.428604  0.000523          1.0  "
      ]
     },
     "execution_count": 40,
     "metadata": {},
     "output_type": "execute_result"
    }
   ],
   "source": [
    "df['1day_Lag'] = (df['Adj Close'].shift(-1) - df['Adj Close']) / df['Adj Close']\n",
    "# .shift shifts up to get the future value old - new divided by \n",
    "        \n",
    "df['1day_target'] = list(map(gain_fall, *[df['1day_Lag']]))\n",
    "\n",
    "df['1day_target'] = df['1day_target'].shift(1)\n",
    "df['1day_target'].fillna(0, inplace = True)\n",
    "df.head()"
   ]
  },
  {
   "cell_type": "code",
   "execution_count": 41,
   "metadata": {},
   "outputs": [],
   "source": [
    "df['1day_target'] = df['1day_target'].shift(1)"
   ]
  },
  {
   "cell_type": "code",
   "execution_count": 42,
   "metadata": {},
   "outputs": [
    {
     "data": {
      "text/plain": [
       "0    NaN\n",
       "1    0.0\n",
       "2    0.0\n",
       "3    0.0\n",
       "4    1.0\n",
       "Name: 1day_target, dtype: float64"
      ]
     },
     "execution_count": 42,
     "metadata": {},
     "output_type": "execute_result"
    }
   ],
   "source": [
    "df['1day_target'].head()"
   ]
  },
  {
   "cell_type": "code",
   "execution_count": 43,
   "metadata": {},
   "outputs": [
    {
     "data": {
      "text/plain": [
       "0    0.0\n",
       "1    0.0\n",
       "2    0.0\n",
       "3    0.0\n",
       "4    1.0\n",
       "Name: 1day_target, dtype: float64"
      ]
     },
     "execution_count": 43,
     "metadata": {},
     "output_type": "execute_result"
    }
   ],
   "source": [
    "df['1day_target'].fillna(0, inplace = True)\n",
    "df['1day_target'].head()"
   ]
  },
  {
   "cell_type": "code",
   "execution_count": 44,
   "metadata": {},
   "outputs": [
    {
     "name": "stdout",
     "output_type": "stream",
     "text": [
      "Data spread:  Counter({'1.0': 584, '0.0': 497})\n"
     ]
    }
   ],
   "source": [
    "# The distribution of the 1day_target mapping\n",
    "vals = df['1day_target'].values #.tolist optional \n",
    "str_vals = [str(i) for i in vals]\n",
    "\n",
    "print('Data spread: ', Counter(str_vals)) # seeing th way in which buys/sell/hold are distributed"
   ]
  },
  {
   "cell_type": "code",
   "execution_count": 45,
   "metadata": {},
   "outputs": [
    {
     "data": {
      "image/png": "[encoded data removed]",
      "text/plain": [
       "<Figure size 432x288 with 1 Axes>"
      ]
     },
     "metadata": {},
     "output_type": "display_data"
    }
   ],
   "source": [
    "df['Adj Close'].plot()\n",
    "plt.show()"
   ]
  },
  {
   "cell_type": "code",
   "execution_count": 46,
   "metadata": {},
   "outputs": [],
   "source": [
    "# return of Adj price (Normalised by one day)\n",
    "df_return = df['Adj Close'].pct_change()"
   ]
  },
  {
   "cell_type": "code",
   "execution_count": 47,
   "metadata": {},
   "outputs": [],
   "source": [
    "df_return = df_return.replace([np.inf, -np.inf], np.nan) # replacing infinite changes with nan\n",
    "df_return.dropna(inplace = True)"
   ]
  },
  {
   "cell_type": "code",
   "execution_count": 48,
   "metadata": {},
   "outputs": [
    {
     "data": {
      "image/png": "[encoded data removed]",
      "text/plain": [
       "<Figure size 432x288 with 1 Axes>"
      ]
     },
     "metadata": {},
     "output_type": "display_data"
    }
   ],
   "source": [
    "df_return.plot()\n",
    "plt.show()"
   ]
  },
  {
   "cell_type": "markdown",
   "metadata": {},
   "source": [
    "days = 7 # Number of days\n",
    "for i in range(1, days + 1):\n",
    "    #### Company name and days into the future\n",
    "    df['{}day_Lag'.format(i)] = (df['Adj Close'].shift(-i) - df['Adj Close']) / df['Adj Close']\n",
    "    #### .shift shifts up to get the future value old - new divided by \n",
    "        \n",
    "    df['{}day_target'.format(i)] = list(map(gain_fall, *[df['{}day_Lag'.format(i)]for i in range(1, days+1)]))\n",
    "    \n",
    "df.fillna(0, inplace = True)\n",
    "df.head()"
   ]
  },
  {
   "cell_type": "code",
   "execution_count": 49,
   "metadata": {},
   "outputs": [],
   "source": [
    "data = {'x_features': df['Adj Close'].pct_change(),\n",
    "                     'y_target': df['1day_target']}\n",
    "frame = pd.DataFrame(data)"
   ]
  },
  {
   "cell_type": "code",
   "execution_count": 50,
   "metadata": {},
   "outputs": [],
   "source": [
    "frame.dropna(inplace = True)"
   ]
  },
  {
   "cell_type": "code",
   "execution_count": 51,
   "metadata": {},
   "outputs": [
    {
     "data": {
      "text/html": [
       "<div>\n",
       "<style scoped>\n",
       "    .dataframe tbody tr th:only-of-type {\n",
       "        vertical-align: middle;\n",
       "    }\n",
       "\n",
       "    .dataframe tbody tr th {\n",
       "        vertical-align: top;\n",
       "    }\n",
       "\n",
       "    .dataframe thead th {\n",
       "        text-align: right;\n",
       "    }\n",
       "</style>\n",
       "<table border=\"1\" class=\"dataframe\">\n",
       "  <thead>\n",
       "    <tr style=\"text-align: right;\">\n",
       "      <th></th>\n",
       "      <th>x_features</th>\n",
       "      <th>y_target</th>\n",
       "    </tr>\n",
       "  </thead>\n",
       "  <tbody>\n",
       "    <tr>\n",
       "      <th>1</th>\n",
       "      <td>-0.010199</td>\n",
       "      <td>0.0</td>\n",
       "    </tr>\n",
       "    <tr>\n",
       "      <th>2</th>\n",
       "      <td>-0.014941</td>\n",
       "      <td>0.0</td>\n",
       "    </tr>\n",
       "    <tr>\n",
       "      <th>3</th>\n",
       "      <td>-0.013598</td>\n",
       "      <td>0.0</td>\n",
       "    </tr>\n",
       "    <tr>\n",
       "      <th>4</th>\n",
       "      <td>0.014846</td>\n",
       "      <td>1.0</td>\n",
       "    </tr>\n",
       "    <tr>\n",
       "      <th>5</th>\n",
       "      <td>0.000523</td>\n",
       "      <td>1.0</td>\n",
       "    </tr>\n",
       "  </tbody>\n",
       "</table>\n",
       "</div>"
      ],
      "text/plain": [
       "   x_features  y_target\n",
       "1   -0.010199       0.0\n",
       "2   -0.014941       0.0\n",
       "3   -0.013598       0.0\n",
       "4    0.014846       1.0\n",
       "5    0.000523       1.0"
      ]
     },
     "execution_count": 51,
     "metadata": {},
     "output_type": "execute_result"
    }
   ],
   "source": [
    "frame.head()"
   ]
  },
  {
   "cell_type": "markdown",
   "metadata": {},
   "source": [
    "## Neural Net (Deep) 2 hidden layers"
   ]
  },
  {
   "cell_type": "code",
   "execution_count": 52,
   "metadata": {},
   "outputs": [],
   "source": [
    "# Required libraries\n",
    "import tensorflow as tf\n",
    "from tensorflow.keras.models import Sequential\n",
    "from tensorflow.keras.layers import Flatten\n",
    "from tensorflow.keras.layers import Dense\n",
    "from tensorflow.keras.layers import Dropout\n",
    "from tensorflow.keras.layers import LSTM\n",
    "import keras.backend as K"
   ]
  },
  {
   "cell_type": "code",
   "execution_count": 53,
   "metadata": {},
   "outputs": [],
   "source": [
    "from sklearn.model_selection import train_test_split\n",
    "from sklearn.metrics import accuracy_score"
   ]
  },
  {
   "cell_type": "code",
   "execution_count": 54,
   "metadata": {},
   "outputs": [],
   "source": [
    "# Using train_test_fit to create subsets for fitting and testing\n",
    "x_train, x_test, y_train, y_test = train_test_split(frame['x_features'], frame['y_target'], test_size = 0.3, random_state = 23, stratify = frame['y_target'])"
   ]
  },
  {
   "cell_type": "code",
   "execution_count": 55,
   "metadata": {},
   "outputs": [],
   "source": [
    "model = Sequential([\n",
    "    # Flattening the input Layer into a vector because it is a matrix\n",
    "    Flatten(),\n",
    "    \n",
    "    #First hidden layer \n",
    "    Dense(256, activation = 'relu'), # or tf.nn.relu\n",
    "    \n",
    "    #to prevent overfitting\n",
    "    Dropout(0.20),\n",
    "    \n",
    "    Dense(128, activation = 'relu'),\n",
    "    \n",
    "    Dropout(0.20),\n",
    "    \n",
    "    #output layer with 1 neuron with the sigmoid function to counter for the 2 classes (1 or 0)\n",
    "    Dense(1, activation = 'sigmoid') # or tf.nn.softmax\n",
    "       \n",
    "])"
   ]
  },
  {
   "cell_type": "code",
   "execution_count": 56,
   "metadata": {},
   "outputs": [],
   "source": [
    "#Compiler; using the adam optimizer and binary_crossentropy for binary classification\n",
    "model.compile(optimizer='adam', loss = 'binary_crossentropy', metrics = ['accuracy'] )"
   ]
  },
  {
   "cell_type": "code",
   "execution_count": 57,
   "metadata": {},
   "outputs": [
    {
     "name": "stdout",
     "output_type": "stream",
     "text": [
      "Epoch 1/20\n",
      "756/756 [==============================] - 2s 2ms/sample - loss: 0.6749 - acc: 0.7698\n",
      "Epoch 2/20\n",
      "756/756 [==============================] - 0s 173us/sample - loss: 0.6270 - acc: 0.7857\n",
      "Epoch 3/20\n",
      "756/756 [==============================] - 0s 175us/sample - loss: 0.5590 - acc: 0.8347\n",
      "Epoch 4/20\n",
      "756/756 [==============================] - 0s 147us/sample - loss: 0.4738 - acc: 0.8717\n",
      "Epoch 5/20\n",
      "756/756 [==============================] - 0s 168us/sample - loss: 0.4023 - acc: 0.8810\n",
      "Epoch 6/20\n",
      "756/756 [==============================] - 0s 124us/sample - loss: 0.3225 - acc: 0.9206\n",
      "Epoch 7/20\n",
      "756/756 [==============================] - 0s 136us/sample - loss: 0.2795 - acc: 0.9220\n",
      "Epoch 8/20\n",
      "756/756 [==============================] - 0s 215us/sample - loss: 0.2316 - acc: 0.9511\n",
      "Epoch 9/20\n",
      "756/756 [==============================] - 0s 122us/sample - loss: 0.2075 - acc: 0.9299\n",
      "Epoch 10/20\n",
      "756/756 [==============================] - 0s 208us/sample - loss: 0.1840 - acc: 0.9669\n",
      "Epoch 11/20\n",
      "756/756 [==============================] - 0s 171us/sample - loss: 0.1611 - acc: 0.9537\n",
      "Epoch 12/20\n",
      "756/756 [==============================] - 0s 136us/sample - loss: 0.1535 - acc: 0.9524\n",
      "Epoch 13/20\n",
      "756/756 [==============================] - 0s 157us/sample - loss: 0.1695 - acc: 0.9220\n",
      "Epoch 14/20\n",
      "756/756 [==============================] - 0s 132us/sample - loss: 0.1387 - acc: 0.9444\n",
      "Epoch 15/20\n",
      "756/756 [==============================] - 0s 130us/sample - loss: 0.1168 - acc: 0.9722\n",
      "Epoch 16/20\n",
      "756/756 [==============================] - 0s 147us/sample - loss: 0.1097 - acc: 0.9735\n",
      "Epoch 17/20\n",
      "756/756 [==============================] - 0s 110us/sample - loss: 0.1031 - acc: 0.9788\n",
      "Epoch 18/20\n",
      "756/756 [==============================] - 0s 131us/sample - loss: 0.1017 - acc: 0.9735\n",
      "Epoch 19/20\n",
      "756/756 [==============================] - 0s 116us/sample - loss: 0.0968 - acc: 0.9709\n",
      "Epoch 20/20\n",
      "756/756 [==============================] - 0s 132us/sample - loss: 0.0907 - acc: 0.9735\n"
     ]
    },
    {
     "data": {
      "text/plain": [
       "<tensorflow.python.keras.callbacks.History at 0x25d14ffdb00>"
      ]
     },
     "execution_count": 57,
     "metadata": {},
     "output_type": "execute_result"
    }
   ],
   "source": [
    "# Fitting the data; 10 iterations\n",
    "model.fit(x_train.values, y_train.values, epochs = 20)"
   ]
  },
  {
   "cell_type": "code",
   "execution_count": 58,
   "metadata": {},
   "outputs": [
    {
     "name": "stdout",
     "output_type": "stream",
     "text": [
      "324/324 [==============================] - 0s 1ms/sample - loss: 0.0811 - acc: 0.9907\n",
      "\n",
      "Test Data Loss: 0.08108309812751817\n",
      "\n",
      "Test Data Accuracy: 99.074%\n"
     ]
    }
   ],
   "source": [
    "# Evaluating the test dataset\n",
    "eval_array = model.evaluate(x_test, y_test)\n",
    "\n",
    "print(\"\\nTest Data Loss: {}\".format(eval_array[0]))\n",
    "print(\"\\nTest Data Accuracy: {:.5}%\".format(eval_array[1] * 100))"
   ]
  },
  {
   "cell_type": "markdown",
   "metadata": {},
   "source": [
    "### Confusion Matrix 1"
   ]
  },
  {
   "cell_type": "code",
   "execution_count": 113,
   "metadata": {},
   "outputs": [],
   "source": [
    "from pandas_ml import ConfusionMatrix as my_con"
   ]
  },
  {
   "cell_type": "code",
   "execution_count": 118,
   "metadata": {},
   "outputs": [
    {
     "data": {
      "text/plain": [
       "array([[7.63973117e-01],\n",
       "       [8.35388899e-04],\n",
       "       [0.00000000e+00],\n",
       "       [5.95918298e-03],\n",
       "       [8.66903067e-01],\n",
       "       [9.92367864e-01],\n",
       "       [4.69177961e-04],\n",
       "       [6.13311410e-01],\n",
       "       [4.38392162e-05],\n",
       "       [9.25572813e-02],\n",
       "       [9.99992967e-01],\n",
       "       [9.99998391e-01],\n",
       "       [9.99125719e-01],\n",
       "       [2.73883343e-05],\n",
       "       [1.00000000e+00],\n",
       "       [1.21593475e-04],\n",
       "       [9.99943137e-01],\n",
       "       [6.42538071e-05],\n",
       "       [0.00000000e+00],\n",
       "       [0.00000000e+00],\n",
       "       [1.04928017e-03],\n",
       "       [9.99972820e-01],\n",
       "       [9.97770071e-01],\n",
       "       [9.99967337e-01],\n",
       "       [8.19057226e-04],\n",
       "       [9.99999225e-01],\n",
       "       [1.05217099e-03],\n",
       "       [3.57627869e-06],\n",
       "       [9.99987245e-01],\n",
       "       [7.46164620e-02],\n",
       "       [9.60549116e-01],\n",
       "       [3.42607498e-03],\n",
       "       [9.99992371e-01],\n",
       "       [9.99576390e-01],\n",
       "       [9.86895680e-01],\n",
       "       [9.12431002e-01],\n",
       "       [9.99996781e-01],\n",
       "       [8.71834159e-02],\n",
       "       [0.00000000e+00],\n",
       "       [8.16661417e-02],\n",
       "       [2.32944757e-01],\n",
       "       [1.23381615e-05],\n",
       "       [9.79781151e-04],\n",
       "       [9.99995172e-01],\n",
       "       [9.56726909e-01],\n",
       "       [1.00000000e+00],\n",
       "       [5.14307618e-03],\n",
       "       [1.00000000e+00],\n",
       "       [9.99987483e-01],\n",
       "       [9.99721289e-01],\n",
       "       [9.99959409e-01],\n",
       "       [9.99999404e-01],\n",
       "       [6.70880079e-04],\n",
       "       [9.99796391e-01],\n",
       "       [9.99984384e-01],\n",
       "       [5.28097153e-05],\n",
       "       [9.99985337e-01],\n",
       "       [9.99999225e-01],\n",
       "       [9.97844338e-01],\n",
       "       [8.59647989e-02],\n",
       "       [9.67115164e-04],\n",
       "       [3.18416953e-03],\n",
       "       [9.99971688e-01],\n",
       "       [1.00000000e+00],\n",
       "       [5.04297018e-03],\n",
       "       [8.58306885e-05],\n",
       "       [1.13159418e-04],\n",
       "       [9.34492230e-01],\n",
       "       [1.00000000e+00],\n",
       "       [2.04741955e-05],\n",
       "       [9.57746029e-01],\n",
       "       [8.71092081e-04],\n",
       "       [3.98214459e-02],\n",
       "       [9.99996126e-01],\n",
       "       [1.63912773e-06],\n",
       "       [1.28924847e-04],\n",
       "       [2.86310732e-01],\n",
       "       [9.93136168e-01],\n",
       "       [1.00000000e+00],\n",
       "       [2.04056501e-03],\n",
       "       [9.99999881e-01],\n",
       "       [5.66244125e-07],\n",
       "       [9.99999166e-01],\n",
       "       [1.00000000e+00],\n",
       "       [9.99999821e-01],\n",
       "       [2.29477882e-06],\n",
       "       [9.99985456e-01],\n",
       "       [1.96549296e-03],\n",
       "       [4.85777855e-06],\n",
       "       [1.00000000e+00],\n",
       "       [3.19275856e-02],\n",
       "       [2.08616257e-07],\n",
       "       [9.98850644e-01],\n",
       "       [9.98846769e-01],\n",
       "       [1.00000000e+00],\n",
       "       [9.99972343e-01],\n",
       "       [0.00000000e+00],\n",
       "       [9.99971986e-01],\n",
       "       [9.96464014e-01],\n",
       "       [9.99913096e-01],\n",
       "       [9.99925852e-01],\n",
       "       [9.93016124e-01],\n",
       "       [9.99769092e-01],\n",
       "       [0.00000000e+00],\n",
       "       [3.30591500e-02],\n",
       "       [9.99028802e-01],\n",
       "       [0.00000000e+00],\n",
       "       [9.95159745e-01],\n",
       "       [9.99985516e-01],\n",
       "       [6.73308969e-03],\n",
       "       [1.55270100e-05],\n",
       "       [4.56854701e-03],\n",
       "       [1.90228224e-04],\n",
       "       [9.91344690e-01],\n",
       "       [1.00000000e+00],\n",
       "       [9.70065594e-05],\n",
       "       [4.39137518e-01],\n",
       "       [1.53405666e-02],\n",
       "       [9.94613051e-01],\n",
       "       [9.99956667e-01],\n",
       "       [1.43280923e-01],\n",
       "       [1.00000000e+00],\n",
       "       [3.07013094e-02],\n",
       "       [1.00000000e+00],\n",
       "       [9.99974251e-01],\n",
       "       [9.99999940e-01],\n",
       "       [8.88241529e-01],\n",
       "       [9.41482186e-03],\n",
       "       [4.39018011e-04],\n",
       "       [9.99999642e-01],\n",
       "       [9.99855101e-01],\n",
       "       [9.99999762e-01],\n",
       "       [0.00000000e+00],\n",
       "       [8.94069672e-08],\n",
       "       [0.00000000e+00],\n",
       "       [1.00000000e+00],\n",
       "       [9.50111508e-01],\n",
       "       [9.99558091e-01],\n",
       "       [9.99474168e-01],\n",
       "       [9.99603510e-01],\n",
       "       [1.75297260e-04],\n",
       "       [2.17556953e-06],\n",
       "       [4.16454673e-03],\n",
       "       [2.71201134e-06],\n",
       "       [1.00000000e+00],\n",
       "       [1.15015566e-01],\n",
       "       [1.82202518e-01],\n",
       "       [9.99629736e-01],\n",
       "       [9.99998569e-01],\n",
       "       [9.01248813e-01],\n",
       "       [1.00000000e+00],\n",
       "       [9.99997735e-01],\n",
       "       [2.98023224e-08],\n",
       "       [9.99985278e-01],\n",
       "       [9.99980211e-01],\n",
       "       [9.99661446e-01],\n",
       "       [2.63151526e-03],\n",
       "       [9.99998450e-01],\n",
       "       [9.99933720e-01],\n",
       "       [1.43603951e-01],\n",
       "       [2.84874439e-03],\n",
       "       [2.98023224e-07],\n",
       "       [9.99999762e-01],\n",
       "       [6.98536634e-04],\n",
       "       [4.47153151e-02],\n",
       "       [9.73181963e-01],\n",
       "       [9.62615013e-06],\n",
       "       [1.43051147e-06],\n",
       "       [9.99370575e-01],\n",
       "       [0.00000000e+00],\n",
       "       [9.99998212e-01],\n",
       "       [9.99367714e-01],\n",
       "       [1.00000000e+00],\n",
       "       [0.00000000e+00],\n",
       "       [1.23953819e-03],\n",
       "       [9.99446094e-01],\n",
       "       [9.46727872e-01],\n",
       "       [3.69548798e-06],\n",
       "       [9.99999166e-01],\n",
       "       [4.98798490e-03],\n",
       "       [7.23102808e-01],\n",
       "       [3.89814377e-05],\n",
       "       [1.00000000e+00],\n",
       "       [9.99884903e-01],\n",
       "       [9.97615337e-01],\n",
       "       [4.61935997e-06],\n",
       "       [1.00000000e+00],\n",
       "       [1.00000000e+00],\n",
       "       [1.06990337e-05],\n",
       "       [1.00000000e+00],\n",
       "       [9.99999285e-01],\n",
       "       [9.99888539e-01],\n",
       "       [9.99797225e-01],\n",
       "       [1.00000000e+00],\n",
       "       [9.99879718e-01],\n",
       "       [9.99995172e-01],\n",
       "       [1.00000000e+00],\n",
       "       [4.20027763e-01],\n",
       "       [9.99774218e-01],\n",
       "       [1.00000000e+00],\n",
       "       [0.00000000e+00],\n",
       "       [3.68440151e-03],\n",
       "       [9.17767167e-01],\n",
       "       [4.64558601e-04],\n",
       "       [9.99929667e-01],\n",
       "       [9.99987483e-01],\n",
       "       [9.99998331e-01],\n",
       "       [2.11834908e-04],\n",
       "       [2.08616257e-07],\n",
       "       [3.27825546e-07],\n",
       "       [9.99979615e-01],\n",
       "       [9.94334877e-01],\n",
       "       [1.00000000e+00],\n",
       "       [8.98540020e-05],\n",
       "       [0.00000000e+00],\n",
       "       [2.95362234e-01],\n",
       "       [1.00821257e-03],\n",
       "       [1.18911266e-05],\n",
       "       [9.15459871e-01],\n",
       "       [8.49180996e-01],\n",
       "       [2.87324190e-04],\n",
       "       [4.47034836e-06],\n",
       "       [1.51889741e-01],\n",
       "       [6.12050295e-04],\n",
       "       [1.96993351e-05],\n",
       "       [3.69548798e-06],\n",
       "       [1.00000000e+00],\n",
       "       [0.00000000e+00],\n",
       "       [4.60377336e-02],\n",
       "       [9.99959111e-01],\n",
       "       [1.91837549e-04],\n",
       "       [4.97698784e-06],\n",
       "       [9.99807656e-01],\n",
       "       [4.76837158e-06],\n",
       "       [0.00000000e+00],\n",
       "       [9.86265063e-01],\n",
       "       [9.98163581e-01],\n",
       "       [1.60932541e-06],\n",
       "       [9.99874353e-01],\n",
       "       [9.99968529e-01],\n",
       "       [6.49690628e-06],\n",
       "       [9.99999046e-01],\n",
       "       [6.49094582e-05],\n",
       "       [4.73762721e-01],\n",
       "       [9.99981046e-01],\n",
       "       [9.60452080e-01],\n",
       "       [1.34503841e-03],\n",
       "       [2.68220901e-07],\n",
       "       [9.99037087e-01],\n",
       "       [9.99256790e-01],\n",
       "       [9.99774694e-01],\n",
       "       [1.69436216e-01],\n",
       "       [1.00000000e+00],\n",
       "       [9.99039769e-01],\n",
       "       [1.00000000e+00],\n",
       "       [1.39057636e-04],\n",
       "       [9.98137891e-01],\n",
       "       [9.99997079e-01],\n",
       "       [1.08191907e-01],\n",
       "       [9.99999881e-01],\n",
       "       [9.99997497e-01],\n",
       "       [6.10613644e-01],\n",
       "       [9.98366237e-01],\n",
       "       [9.99866486e-01],\n",
       "       [9.99990642e-01],\n",
       "       [9.99870598e-01],\n",
       "       [9.21856642e-01],\n",
       "       [9.41130877e-01],\n",
       "       [2.60174274e-05],\n",
       "       [9.91723061e-01],\n",
       "       [9.99999523e-01],\n",
       "       [3.65537107e-02],\n",
       "       [0.00000000e+00],\n",
       "       [9.91357803e-01],\n",
       "       [9.91563201e-01],\n",
       "       [9.99997854e-01],\n",
       "       [1.00135803e-05],\n",
       "       [8.41319561e-04],\n",
       "       [3.27825546e-07],\n",
       "       [0.00000000e+00],\n",
       "       [3.20929289e-03],\n",
       "       [3.05771828e-05],\n",
       "       [1.00000000e+00],\n",
       "       [0.00000000e+00],\n",
       "       [0.00000000e+00],\n",
       "       [9.00894403e-04],\n",
       "       [4.60743904e-04],\n",
       "       [0.00000000e+00],\n",
       "       [0.00000000e+00],\n",
       "       [9.73170042e-01],\n",
       "       [1.00000000e+00],\n",
       "       [1.29282475e-04],\n",
       "       [1.00000000e+00],\n",
       "       [9.99984264e-01],\n",
       "       [9.99807179e-01],\n",
       "       [4.09273207e-02],\n",
       "       [9.64016914e-01],\n",
       "       [9.90057409e-01],\n",
       "       [9.99999940e-01],\n",
       "       [2.75108218e-03],\n",
       "       [2.21818686e-03],\n",
       "       [9.99997079e-01],\n",
       "       [9.80317593e-04],\n",
       "       [0.00000000e+00],\n",
       "       [2.32458115e-05],\n",
       "       [8.94665718e-05],\n",
       "       [2.19637156e-03],\n",
       "       [9.99999881e-01],\n",
       "       [5.37931919e-05],\n",
       "       [9.98038352e-01],\n",
       "       [0.00000000e+00],\n",
       "       [9.96961951e-01],\n",
       "       [9.99750733e-01],\n",
       "       [1.89527869e-03],\n",
       "       [8.63137364e-01],\n",
       "       [0.00000000e+00],\n",
       "       [0.00000000e+00],\n",
       "       [1.14592910e-03],\n",
       "       [8.64267349e-07],\n",
       "       [9.97309685e-01],\n",
       "       [9.99997735e-01],\n",
       "       [9.73847113e-04],\n",
       "       [0.00000000e+00],\n",
       "       [3.39057714e-01]], dtype=float32)"
      ]
     },
     "execution_count": 118,
     "metadata": {},
     "output_type": "execute_result"
    }
   ],
   "source": [
    "preds1 = model.predict(x_test)"
   ]
  },
  {
   "cell_type": "code",
   "execution_count": 161,
   "metadata": {},
   "outputs": [
    {
     "ename": "Exception",
     "evalue": "Data must be 1-dimensional",
     "output_type": "error",
     "traceback": [
      "\u001b[1;31m---------------------------------------------------------------------------\u001b[0m",
      "\u001b[1;31mException\u001b[0m                                 Traceback (most recent call last)",
      "\u001b[1;32m<ipython-input-161-325f7378533d>\u001b[0m in \u001b[0;36m<module>\u001b[1;34m()\u001b[0m\n\u001b[1;32m----> 1\u001b[1;33m \u001b[0mpd\u001b[0m\u001b[1;33m.\u001b[0m\u001b[0mcrosstab\u001b[0m\u001b[1;33m(\u001b[0m\u001b[0my_test\u001b[0m\u001b[1;33m,\u001b[0m \u001b[0mpreds1\u001b[0m \u001b[1;33m,\u001b[0m \u001b[0mrownames\u001b[0m\u001b[1;33m=\u001b[0m\u001b[1;33m[\u001b[0m\u001b[1;34m'Actual'\u001b[0m\u001b[1;33m]\u001b[0m\u001b[1;33m,\u001b[0m\u001b[0mcolnames\u001b[0m\u001b[1;33m=\u001b[0m\u001b[1;33m[\u001b[0m\u001b[1;34m'Predicted'\u001b[0m\u001b[1;33m]\u001b[0m\u001b[1;33m,\u001b[0m \u001b[0mmargins\u001b[0m \u001b[1;33m=\u001b[0m \u001b[1;32mTrue\u001b[0m\u001b[1;33m)\u001b[0m\u001b[1;33m.\u001b[0m\u001b[0mravel\u001b[0m\u001b[1;33m(\u001b[0m\u001b[1;33m)\u001b[0m\u001b[1;33m\u001b[0m\u001b[0m\n\u001b[0m",
      "\u001b[1;32m~\\Anaconda3\\lib\\site-packages\\pandas\\core\\reshape\\pivot.py\u001b[0m in \u001b[0;36mcrosstab\u001b[1;34m(index, columns, values, rownames, colnames, aggfunc, margins, margins_name, dropna, normalize)\u001b[0m\n\u001b[0;32m    509\u001b[0m \u001b[1;33m\u001b[0m\u001b[0m\n\u001b[0;32m    510\u001b[0m     \u001b[1;32mfrom\u001b[0m \u001b[0mpandas\u001b[0m \u001b[1;32mimport\u001b[0m \u001b[0mDataFrame\u001b[0m\u001b[1;33m\u001b[0m\u001b[0m\n\u001b[1;32m--> 511\u001b[1;33m     \u001b[0mdf\u001b[0m \u001b[1;33m=\u001b[0m \u001b[0mDataFrame\u001b[0m\u001b[1;33m(\u001b[0m\u001b[0mdata\u001b[0m\u001b[1;33m,\u001b[0m \u001b[0mindex\u001b[0m\u001b[1;33m=\u001b[0m\u001b[0mcommon_idx\u001b[0m\u001b[1;33m)\u001b[0m\u001b[1;33m\u001b[0m\u001b[0m\n\u001b[0m\u001b[0;32m    512\u001b[0m     \u001b[1;32mif\u001b[0m \u001b[0mvalues\u001b[0m \u001b[1;32mis\u001b[0m \u001b[1;32mNone\u001b[0m\u001b[1;33m:\u001b[0m\u001b[1;33m\u001b[0m\u001b[0m\n\u001b[0;32m    513\u001b[0m         \u001b[0mdf\u001b[0m\u001b[1;33m[\u001b[0m\u001b[1;34m'__dummy__'\u001b[0m\u001b[1;33m]\u001b[0m \u001b[1;33m=\u001b[0m \u001b[1;36m0\u001b[0m\u001b[1;33m\u001b[0m\u001b[0m\n",
      "\u001b[1;32m~\\Anaconda3\\lib\\site-packages\\pandas\\core\\frame.py\u001b[0m in \u001b[0;36m__init__\u001b[1;34m(self, data, index, columns, dtype, copy)\u001b[0m\n\u001b[0;32m    390\u001b[0m                                  dtype=dtype, copy=copy)\n\u001b[0;32m    391\u001b[0m         \u001b[1;32melif\u001b[0m \u001b[0misinstance\u001b[0m\u001b[1;33m(\u001b[0m\u001b[0mdata\u001b[0m\u001b[1;33m,\u001b[0m \u001b[0mdict\u001b[0m\u001b[1;33m)\u001b[0m\u001b[1;33m:\u001b[0m\u001b[1;33m\u001b[0m\u001b[0m\n\u001b[1;32m--> 392\u001b[1;33m             \u001b[0mmgr\u001b[0m \u001b[1;33m=\u001b[0m \u001b[0minit_dict\u001b[0m\u001b[1;33m(\u001b[0m\u001b[0mdata\u001b[0m\u001b[1;33m,\u001b[0m \u001b[0mindex\u001b[0m\u001b[1;33m,\u001b[0m \u001b[0mcolumns\u001b[0m\u001b[1;33m,\u001b[0m \u001b[0mdtype\u001b[0m\u001b[1;33m=\u001b[0m\u001b[0mdtype\u001b[0m\u001b[1;33m)\u001b[0m\u001b[1;33m\u001b[0m\u001b[0m\n\u001b[0m\u001b[0;32m    393\u001b[0m         \u001b[1;32melif\u001b[0m \u001b[0misinstance\u001b[0m\u001b[1;33m(\u001b[0m\u001b[0mdata\u001b[0m\u001b[1;33m,\u001b[0m \u001b[0mma\u001b[0m\u001b[1;33m.\u001b[0m\u001b[0mMaskedArray\u001b[0m\u001b[1;33m)\u001b[0m\u001b[1;33m:\u001b[0m\u001b[1;33m\u001b[0m\u001b[0m\n\u001b[0;32m    394\u001b[0m             \u001b[1;32mimport\u001b[0m \u001b[0mnumpy\u001b[0m\u001b[1;33m.\u001b[0m\u001b[0mma\u001b[0m\u001b[1;33m.\u001b[0m\u001b[0mmrecords\u001b[0m \u001b[1;32mas\u001b[0m \u001b[0mmrecords\u001b[0m\u001b[1;33m\u001b[0m\u001b[0m\n",
      "\u001b[1;32m~\\Anaconda3\\lib\\site-packages\\pandas\\core\\internals\\construction.py\u001b[0m in \u001b[0;36minit_dict\u001b[1;34m(data, index, columns, dtype)\u001b[0m\n\u001b[0;32m    210\u001b[0m         \u001b[0marrays\u001b[0m \u001b[1;33m=\u001b[0m \u001b[1;33m[\u001b[0m\u001b[0mdata\u001b[0m\u001b[1;33m[\u001b[0m\u001b[0mk\u001b[0m\u001b[1;33m]\u001b[0m \u001b[1;32mfor\u001b[0m \u001b[0mk\u001b[0m \u001b[1;32min\u001b[0m \u001b[0mkeys\u001b[0m\u001b[1;33m]\u001b[0m\u001b[1;33m\u001b[0m\u001b[0m\n\u001b[0;32m    211\u001b[0m \u001b[1;33m\u001b[0m\u001b[0m\n\u001b[1;32m--> 212\u001b[1;33m     \u001b[1;32mreturn\u001b[0m \u001b[0marrays_to_mgr\u001b[0m\u001b[1;33m(\u001b[0m\u001b[0marrays\u001b[0m\u001b[1;33m,\u001b[0m \u001b[0mdata_names\u001b[0m\u001b[1;33m,\u001b[0m \u001b[0mindex\u001b[0m\u001b[1;33m,\u001b[0m \u001b[0mcolumns\u001b[0m\u001b[1;33m,\u001b[0m \u001b[0mdtype\u001b[0m\u001b[1;33m=\u001b[0m\u001b[0mdtype\u001b[0m\u001b[1;33m)\u001b[0m\u001b[1;33m\u001b[0m\u001b[0m\n\u001b[0m\u001b[0;32m    213\u001b[0m \u001b[1;33m\u001b[0m\u001b[0m\n\u001b[0;32m    214\u001b[0m \u001b[1;33m\u001b[0m\u001b[0m\n",
      "\u001b[1;32m~\\Anaconda3\\lib\\site-packages\\pandas\\core\\internals\\construction.py\u001b[0m in \u001b[0;36marrays_to_mgr\u001b[1;34m(arrays, arr_names, index, columns, dtype)\u001b[0m\n\u001b[0;32m     54\u001b[0m \u001b[1;33m\u001b[0m\u001b[0m\n\u001b[0;32m     55\u001b[0m     \u001b[1;31m# don't force copy because getting jammed in an ndarray anyway\u001b[0m\u001b[1;33m\u001b[0m\u001b[1;33m\u001b[0m\u001b[0m\n\u001b[1;32m---> 56\u001b[1;33m     \u001b[0marrays\u001b[0m \u001b[1;33m=\u001b[0m \u001b[0m_homogenize\u001b[0m\u001b[1;33m(\u001b[0m\u001b[0marrays\u001b[0m\u001b[1;33m,\u001b[0m \u001b[0mindex\u001b[0m\u001b[1;33m,\u001b[0m \u001b[0mdtype\u001b[0m\u001b[1;33m)\u001b[0m\u001b[1;33m\u001b[0m\u001b[0m\n\u001b[0m\u001b[0;32m     57\u001b[0m \u001b[1;33m\u001b[0m\u001b[0m\n\u001b[0;32m     58\u001b[0m     \u001b[1;31m# from BlockManager perspective\u001b[0m\u001b[1;33m\u001b[0m\u001b[1;33m\u001b[0m\u001b[0m\n",
      "\u001b[1;32m~\\Anaconda3\\lib\\site-packages\\pandas\\core\\internals\\construction.py\u001b[0m in \u001b[0;36m_homogenize\u001b[1;34m(data, index, dtype)\u001b[0m\n\u001b[0;32m    275\u001b[0m                 \u001b[0mval\u001b[0m \u001b[1;33m=\u001b[0m \u001b[0mlib\u001b[0m\u001b[1;33m.\u001b[0m\u001b[0mfast_multiget\u001b[0m\u001b[1;33m(\u001b[0m\u001b[0mval\u001b[0m\u001b[1;33m,\u001b[0m \u001b[0moindex\u001b[0m\u001b[1;33m.\u001b[0m\u001b[0mvalues\u001b[0m\u001b[1;33m,\u001b[0m \u001b[0mdefault\u001b[0m\u001b[1;33m=\u001b[0m\u001b[0mnp\u001b[0m\u001b[1;33m.\u001b[0m\u001b[0mnan\u001b[0m\u001b[1;33m)\u001b[0m\u001b[1;33m\u001b[0m\u001b[0m\n\u001b[0;32m    276\u001b[0m             val = sanitize_array(val, index, dtype=dtype, copy=False,\n\u001b[1;32m--> 277\u001b[1;33m                                  raise_cast_failure=False)\n\u001b[0m\u001b[0;32m    278\u001b[0m \u001b[1;33m\u001b[0m\u001b[0m\n\u001b[0;32m    279\u001b[0m         \u001b[0mhomogenized\u001b[0m\u001b[1;33m.\u001b[0m\u001b[0mappend\u001b[0m\u001b[1;33m(\u001b[0m\u001b[0mval\u001b[0m\u001b[1;33m)\u001b[0m\u001b[1;33m\u001b[0m\u001b[0m\n",
      "\u001b[1;32m~\\Anaconda3\\lib\\site-packages\\pandas\\core\\internals\\construction.py\u001b[0m in \u001b[0;36msanitize_array\u001b[1;34m(data, index, dtype, copy, raise_cast_failure)\u001b[0m\n\u001b[0;32m    656\u001b[0m     \u001b[1;32melif\u001b[0m \u001b[0msubarr\u001b[0m\u001b[1;33m.\u001b[0m\u001b[0mndim\u001b[0m \u001b[1;33m>\u001b[0m \u001b[1;36m1\u001b[0m\u001b[1;33m:\u001b[0m\u001b[1;33m\u001b[0m\u001b[0m\n\u001b[0;32m    657\u001b[0m         \u001b[1;32mif\u001b[0m \u001b[0misinstance\u001b[0m\u001b[1;33m(\u001b[0m\u001b[0mdata\u001b[0m\u001b[1;33m,\u001b[0m \u001b[0mnp\u001b[0m\u001b[1;33m.\u001b[0m\u001b[0mndarray\u001b[0m\u001b[1;33m)\u001b[0m\u001b[1;33m:\u001b[0m\u001b[1;33m\u001b[0m\u001b[0m\n\u001b[1;32m--> 658\u001b[1;33m             \u001b[1;32mraise\u001b[0m \u001b[0mException\u001b[0m\u001b[1;33m(\u001b[0m\u001b[1;34m'Data must be 1-dimensional'\u001b[0m\u001b[1;33m)\u001b[0m\u001b[1;33m\u001b[0m\u001b[0m\n\u001b[0m\u001b[0;32m    659\u001b[0m         \u001b[1;32melse\u001b[0m\u001b[1;33m:\u001b[0m\u001b[1;33m\u001b[0m\u001b[0m\n\u001b[0;32m    660\u001b[0m             \u001b[0msubarr\u001b[0m \u001b[1;33m=\u001b[0m \u001b[0mcom\u001b[0m\u001b[1;33m.\u001b[0m\u001b[0masarray_tuplesafe\u001b[0m\u001b[1;33m(\u001b[0m\u001b[0mdata\u001b[0m\u001b[1;33m,\u001b[0m \u001b[0mdtype\u001b[0m\u001b[1;33m=\u001b[0m\u001b[0mdtype\u001b[0m\u001b[1;33m)\u001b[0m\u001b[1;33m\u001b[0m\u001b[0m\n",
      "\u001b[1;31mException\u001b[0m: Data must be 1-dimensional"
     ]
    }
   ],
   "source": [
    "pd.crosstab(y_test, preds1 , rownames=['Actual'],colnames=['Predicted'], margins = True).ravel()"
   ]
  },
  {
   "cell_type": "code",
   "execution_count": 162,
   "metadata": {},
   "outputs": [
    {
     "ename": "Exception",
     "evalue": "Data must be 1-dimensional",
     "output_type": "error",
     "traceback": [
      "\u001b[1;31m---------------------------------------------------------------------------\u001b[0m",
      "\u001b[1;31mException\u001b[0m                                 Traceback (most recent call last)",
      "\u001b[1;32m<ipython-input-162-e11029c035fd>\u001b[0m in \u001b[0;36m<module>\u001b[1;34m()\u001b[0m\n\u001b[1;32m----> 1\u001b[1;33m \u001b[0mmy_conf_matrix1\u001b[0m \u001b[1;33m=\u001b[0m \u001b[0mmy_con\u001b[0m\u001b[1;33m(\u001b[0m\u001b[0my_test\u001b[0m\u001b[1;33m,\u001b[0m\u001b[0mmodel\u001b[0m\u001b[1;33m.\u001b[0m\u001b[0mpredict\u001b[0m\u001b[1;33m(\u001b[0m\u001b[0mx_test\u001b[0m\u001b[1;33m)\u001b[0m\u001b[1;33m)\u001b[0m\u001b[1;33m.\u001b[0m\u001b[0mravel\u001b[0m\u001b[1;33m(\u001b[0m\u001b[1;33m)\u001b[0m\u001b[1;33m\u001b[0m\u001b[0m\n\u001b[0m\u001b[0;32m      2\u001b[0m \u001b[0mmy_conf_matrix1\u001b[0m\u001b[1;33m\u001b[0m\u001b[0m\n",
      "\u001b[1;32m~\\Anaconda3\\lib\\site-packages\\pandas_ml\\confusion_matrix\\cm.py\u001b[0m in \u001b[0;36m__new__\u001b[1;34m(cls, y_true, y_pred, *args, **kwargs)\u001b[0m\n\u001b[0;32m     22\u001b[0m                 \u001b[1;32mfrom\u001b[0m \u001b[0mpandas_ml\u001b[0m\u001b[1;33m.\u001b[0m\u001b[0mconfusion_matrix\u001b[0m\u001b[1;33m.\u001b[0m\u001b[0mbcm\u001b[0m \u001b[1;32mimport\u001b[0m \u001b[0mBinaryConfusionMatrix\u001b[0m\u001b[1;33m\u001b[0m\u001b[0m\n\u001b[0;32m     23\u001b[0m                 \u001b[1;32mreturn\u001b[0m \u001b[0mBinaryConfusionMatrix\u001b[0m\u001b[1;33m(\u001b[0m\u001b[0my_true\u001b[0m\u001b[1;33m,\u001b[0m \u001b[0my_pred\u001b[0m\u001b[1;33m,\u001b[0m \u001b[1;33m*\u001b[0m\u001b[0margs\u001b[0m\u001b[1;33m,\u001b[0m \u001b[1;33m**\u001b[0m\u001b[0mkwargs\u001b[0m\u001b[1;33m)\u001b[0m\u001b[1;33m\u001b[0m\u001b[0m\n\u001b[1;32m---> 24\u001b[1;33m         \u001b[1;32mreturn\u001b[0m \u001b[0mLabeledConfusionMatrix\u001b[0m\u001b[1;33m(\u001b[0m\u001b[0my_true\u001b[0m\u001b[1;33m,\u001b[0m \u001b[0my_pred\u001b[0m\u001b[1;33m,\u001b[0m \u001b[1;33m*\u001b[0m\u001b[0margs\u001b[0m\u001b[1;33m,\u001b[0m \u001b[1;33m**\u001b[0m\u001b[0mkwargs\u001b[0m\u001b[1;33m)\u001b[0m\u001b[1;33m\u001b[0m\u001b[0m\n\u001b[0m\u001b[0;32m     25\u001b[0m \u001b[1;33m\u001b[0m\u001b[0m\n\u001b[0;32m     26\u001b[0m \u001b[1;33m\u001b[0m\u001b[0m\n",
      "\u001b[1;32m~\\Anaconda3\\lib\\site-packages\\pandas_ml\\confusion_matrix\\abstract.py\u001b[0m in \u001b[0;36m__init__\u001b[1;34m(self, y_true, y_pred, labels, display_sum, backend, true_name, pred_name)\u001b[0m\n\u001b[0;32m     37\u001b[0m             \u001b[0mself\u001b[0m\u001b[1;33m.\u001b[0m\u001b[0m_y_pred\u001b[0m\u001b[1;33m.\u001b[0m\u001b[0mname\u001b[0m \u001b[1;33m=\u001b[0m \u001b[0mself\u001b[0m\u001b[1;33m.\u001b[0m\u001b[0mpred_name\u001b[0m\u001b[1;33m\u001b[0m\u001b[0m\n\u001b[0;32m     38\u001b[0m         \u001b[1;32melse\u001b[0m\u001b[1;33m:\u001b[0m\u001b[1;33m\u001b[0m\u001b[0m\n\u001b[1;32m---> 39\u001b[1;33m             \u001b[0mself\u001b[0m\u001b[1;33m.\u001b[0m\u001b[0m_y_pred\u001b[0m \u001b[1;33m=\u001b[0m \u001b[0mpd\u001b[0m\u001b[1;33m.\u001b[0m\u001b[0mSeries\u001b[0m\u001b[1;33m(\u001b[0m\u001b[0my_pred\u001b[0m\u001b[1;33m,\u001b[0m \u001b[0mname\u001b[0m\u001b[1;33m=\u001b[0m\u001b[0mself\u001b[0m\u001b[1;33m.\u001b[0m\u001b[0mpred_name\u001b[0m\u001b[1;33m)\u001b[0m\u001b[1;33m\u001b[0m\u001b[0m\n\u001b[0m\u001b[0;32m     40\u001b[0m \u001b[1;33m\u001b[0m\u001b[0m\n\u001b[0;32m     41\u001b[0m         \u001b[1;32mif\u001b[0m \u001b[0mlabels\u001b[0m \u001b[1;32mis\u001b[0m \u001b[1;32mnot\u001b[0m \u001b[1;32mNone\u001b[0m\u001b[1;33m:\u001b[0m\u001b[1;33m\u001b[0m\u001b[0m\n",
      "\u001b[1;32m~\\Anaconda3\\lib\\site-packages\\pandas\\core\\series.py\u001b[0m in \u001b[0;36m__init__\u001b[1;34m(self, data, index, dtype, name, copy, fastpath)\u001b[0m\n\u001b[0;32m    260\u001b[0m             \u001b[1;32melse\u001b[0m\u001b[1;33m:\u001b[0m\u001b[1;33m\u001b[0m\u001b[0m\n\u001b[0;32m    261\u001b[0m                 data = sanitize_array(data, index, dtype, copy,\n\u001b[1;32m--> 262\u001b[1;33m                                       raise_cast_failure=True)\n\u001b[0m\u001b[0;32m    263\u001b[0m \u001b[1;33m\u001b[0m\u001b[0m\n\u001b[0;32m    264\u001b[0m                 \u001b[0mdata\u001b[0m \u001b[1;33m=\u001b[0m \u001b[0mSingleBlockManager\u001b[0m\u001b[1;33m(\u001b[0m\u001b[0mdata\u001b[0m\u001b[1;33m,\u001b[0m \u001b[0mindex\u001b[0m\u001b[1;33m,\u001b[0m \u001b[0mfastpath\u001b[0m\u001b[1;33m=\u001b[0m\u001b[1;32mTrue\u001b[0m\u001b[1;33m)\u001b[0m\u001b[1;33m\u001b[0m\u001b[0m\n",
      "\u001b[1;32m~\\Anaconda3\\lib\\site-packages\\pandas\\core\\internals\\construction.py\u001b[0m in \u001b[0;36msanitize_array\u001b[1;34m(data, index, dtype, copy, raise_cast_failure)\u001b[0m\n\u001b[0;32m    656\u001b[0m     \u001b[1;32melif\u001b[0m \u001b[0msubarr\u001b[0m\u001b[1;33m.\u001b[0m\u001b[0mndim\u001b[0m \u001b[1;33m>\u001b[0m \u001b[1;36m1\u001b[0m\u001b[1;33m:\u001b[0m\u001b[1;33m\u001b[0m\u001b[0m\n\u001b[0;32m    657\u001b[0m         \u001b[1;32mif\u001b[0m \u001b[0misinstance\u001b[0m\u001b[1;33m(\u001b[0m\u001b[0mdata\u001b[0m\u001b[1;33m,\u001b[0m \u001b[0mnp\u001b[0m\u001b[1;33m.\u001b[0m\u001b[0mndarray\u001b[0m\u001b[1;33m)\u001b[0m\u001b[1;33m:\u001b[0m\u001b[1;33m\u001b[0m\u001b[0m\n\u001b[1;32m--> 658\u001b[1;33m             \u001b[1;32mraise\u001b[0m \u001b[0mException\u001b[0m\u001b[1;33m(\u001b[0m\u001b[1;34m'Data must be 1-dimensional'\u001b[0m\u001b[1;33m)\u001b[0m\u001b[1;33m\u001b[0m\u001b[0m\n\u001b[0m\u001b[0;32m    659\u001b[0m         \u001b[1;32melse\u001b[0m\u001b[1;33m:\u001b[0m\u001b[1;33m\u001b[0m\u001b[0m\n\u001b[0;32m    660\u001b[0m             \u001b[0msubarr\u001b[0m \u001b[1;33m=\u001b[0m \u001b[0mcom\u001b[0m\u001b[1;33m.\u001b[0m\u001b[0masarray_tuplesafe\u001b[0m\u001b[1;33m(\u001b[0m\u001b[0mdata\u001b[0m\u001b[1;33m,\u001b[0m \u001b[0mdtype\u001b[0m\u001b[1;33m=\u001b[0m\u001b[0mdtype\u001b[0m\u001b[1;33m)\u001b[0m\u001b[1;33m\u001b[0m\u001b[0m\n",
      "\u001b[1;31mException\u001b[0m: Data must be 1-dimensional"
     ]
    }
   ],
   "source": [
    "my_conf_matrix1 = my_con(y_test,model.predict(x_test)).ravel()\n",
    "my_conf_matrix1"
   ]
  },
  {
   "cell_type": "code",
   "execution_count": 163,
   "metadata": {},
   "outputs": [
    {
     "ename": "ValueError",
     "evalue": "Classification metrics can't handle a mix of binary and continuous targets",
     "output_type": "error",
     "traceback": [
      "\u001b[1;31m---------------------------------------------------------------------------\u001b[0m",
      "\u001b[1;31mValueError\u001b[0m                                Traceback (most recent call last)",
      "\u001b[1;32m<ipython-input-163-a18ffb97b631>\u001b[0m in \u001b[0;36m<module>\u001b[1;34m()\u001b[0m\n\u001b[0;32m      1\u001b[0m \u001b[1;32mfrom\u001b[0m \u001b[0msklearn\u001b[0m\u001b[1;33m.\u001b[0m\u001b[0mmetrics\u001b[0m \u001b[1;32mimport\u001b[0m \u001b[0mconfusion_matrix\u001b[0m\u001b[1;33m\u001b[0m\u001b[0m\n\u001b[1;32m----> 2\u001b[1;33m \u001b[0mtn\u001b[0m\u001b[1;33m,\u001b[0m \u001b[0mfp\u001b[0m\u001b[1;33m,\u001b[0m \u001b[0mfn\u001b[0m\u001b[1;33m,\u001b[0m \u001b[0mtp\u001b[0m \u001b[1;33m=\u001b[0m \u001b[0mconfusion_matrix\u001b[0m\u001b[1;33m(\u001b[0m\u001b[0my_test\u001b[0m\u001b[1;33m,\u001b[0m \u001b[0mpreds1\u001b[0m\u001b[1;33m)\u001b[0m\u001b[1;33m.\u001b[0m\u001b[0mravel\u001b[0m\u001b[1;33m(\u001b[0m\u001b[1;33m)\u001b[0m\u001b[1;33m\u001b[0m\u001b[0m\n\u001b[0m\u001b[0;32m      3\u001b[0m \u001b[0mprint\u001b[0m\u001b[1;33m(\u001b[0m\u001b[1;34m'tn:'\u001b[0m\u001b[1;33m,\u001b[0m\u001b[0mtn\u001b[0m\u001b[1;33m,\u001b[0m \u001b[1;34m'fp:'\u001b[0m\u001b[1;33m,\u001b[0m\u001b[0mfp\u001b[0m\u001b[1;33m,\u001b[0m \u001b[1;34m'fn:'\u001b[0m\u001b[1;33m,\u001b[0m\u001b[0mfn\u001b[0m\u001b[1;33m,\u001b[0m \u001b[1;34m'tp:'\u001b[0m\u001b[1;33m,\u001b[0m\u001b[0mtp\u001b[0m\u001b[1;33m)\u001b[0m\u001b[1;33m\u001b[0m\u001b[0m\n",
      "\u001b[1;32m~\\Anaconda3\\lib\\site-packages\\sklearn\\metrics\\classification.py\u001b[0m in \u001b[0;36mconfusion_matrix\u001b[1;34m(y_true, y_pred, labels, sample_weight)\u001b[0m\n\u001b[0;32m    248\u001b[0m \u001b[1;33m\u001b[0m\u001b[0m\n\u001b[0;32m    249\u001b[0m     \"\"\"\n\u001b[1;32m--> 250\u001b[1;33m     \u001b[0my_type\u001b[0m\u001b[1;33m,\u001b[0m \u001b[0my_true\u001b[0m\u001b[1;33m,\u001b[0m \u001b[0my_pred\u001b[0m \u001b[1;33m=\u001b[0m \u001b[0m_check_targets\u001b[0m\u001b[1;33m(\u001b[0m\u001b[0my_true\u001b[0m\u001b[1;33m,\u001b[0m \u001b[0my_pred\u001b[0m\u001b[1;33m)\u001b[0m\u001b[1;33m\u001b[0m\u001b[0m\n\u001b[0m\u001b[0;32m    251\u001b[0m     \u001b[1;32mif\u001b[0m \u001b[0my_type\u001b[0m \u001b[1;32mnot\u001b[0m \u001b[1;32min\u001b[0m \u001b[1;33m(\u001b[0m\u001b[1;34m\"binary\"\u001b[0m\u001b[1;33m,\u001b[0m \u001b[1;34m\"multiclass\"\u001b[0m\u001b[1;33m)\u001b[0m\u001b[1;33m:\u001b[0m\u001b[1;33m\u001b[0m\u001b[0m\n\u001b[0;32m    252\u001b[0m         \u001b[1;32mraise\u001b[0m \u001b[0mValueError\u001b[0m\u001b[1;33m(\u001b[0m\u001b[1;34m\"%s is not supported\"\u001b[0m \u001b[1;33m%\u001b[0m \u001b[0my_type\u001b[0m\u001b[1;33m)\u001b[0m\u001b[1;33m\u001b[0m\u001b[0m\n",
      "\u001b[1;32m~\\Anaconda3\\lib\\site-packages\\sklearn\\metrics\\classification.py\u001b[0m in \u001b[0;36m_check_targets\u001b[1;34m(y_true, y_pred)\u001b[0m\n\u001b[0;32m     79\u001b[0m     \u001b[1;32mif\u001b[0m \u001b[0mlen\u001b[0m\u001b[1;33m(\u001b[0m\u001b[0my_type\u001b[0m\u001b[1;33m)\u001b[0m \u001b[1;33m>\u001b[0m \u001b[1;36m1\u001b[0m\u001b[1;33m:\u001b[0m\u001b[1;33m\u001b[0m\u001b[0m\n\u001b[0;32m     80\u001b[0m         raise ValueError(\"Classification metrics can't handle a mix of {0} \"\n\u001b[1;32m---> 81\u001b[1;33m                          \"and {1} targets\".format(type_true, type_pred))\n\u001b[0m\u001b[0;32m     82\u001b[0m \u001b[1;33m\u001b[0m\u001b[0m\n\u001b[0;32m     83\u001b[0m     \u001b[1;31m# We can't have more than one value on y_type => The set is no more needed\u001b[0m\u001b[1;33m\u001b[0m\u001b[1;33m\u001b[0m\u001b[0m\n",
      "\u001b[1;31mValueError\u001b[0m: Classification metrics can't handle a mix of binary and continuous targets"
     ]
    }
   ],
   "source": [
    "from sklearn.metrics import confusion_matrix\n",
    "tn, fp, fn, tp = confusion_matrix(y_test, preds1).ravel()\n",
    "print('tn:',tn, 'fp:',fp, 'fn:',fn, 'tp:',tp)"
   ]
  },
  {
   "cell_type": "markdown",
   "metadata": {},
   "source": [
    "### Model 2 MLP"
   ]
  },
  {
   "cell_type": "code",
   "execution_count": 59,
   "metadata": {},
   "outputs": [],
   "source": [
    "model2 = Sequential([\n",
    "    # Flattening the input Layer into a vector because it is a matrix\n",
    "    Flatten(),\n",
    "    \n",
    "    Dense(128, activation = 'relu'),\n",
    "    \n",
    "    Dropout(0.20),\n",
    "    \n",
    "    #output layer with 1 neuron with the sigmoid function to counter for the 2 classes (1 or 0)\n",
    "    Dense(1, activation = 'sigmoid') # or tf.nn.softmax\n",
    "       \n",
    "])"
   ]
  },
  {
   "cell_type": "code",
   "execution_count": 60,
   "metadata": {},
   "outputs": [],
   "source": [
    "#Compiler; using the adam optimizer and binary_crossentropy for binary classification\n",
    "model2.compile(optimizer='adam', loss = 'binary_crossentropy', metrics = ['accuracy'] )"
   ]
  },
  {
   "cell_type": "code",
   "execution_count": 61,
   "metadata": {},
   "outputs": [
    {
     "name": "stdout",
     "output_type": "stream",
     "text": [
      "Epoch 1/20\n",
      "756/756 [==============================] - 0s 290us/sample - loss: 0.6865 - acc: 0.7765\n",
      "Epoch 2/20\n",
      "756/756 [==============================] - 0s 83us/sample - loss: 0.6810 - acc: 0.5780\n",
      "Epoch 3/20\n",
      "756/756 [==============================] - 0s 94us/sample - loss: 0.6757 - acc: 0.5675\n",
      "Epoch 4/20\n",
      "756/756 [==============================] - 0s 91us/sample - loss: 0.6712 - acc: 0.5648\n",
      "Epoch 5/20\n",
      "756/756 [==============================] - 0s 86us/sample - loss: 0.6680 - acc: 0.6217\n",
      "Epoch 6/20\n",
      "756/756 [==============================] - 0s 91us/sample - loss: 0.6608 - acc: 0.5741\n",
      "Epoch 7/20\n",
      "756/756 [==============================] - 0s 90us/sample - loss: 0.6544 - acc: 0.7077\n",
      "Epoch 8/20\n",
      "756/756 [==============================] - 0s 79us/sample - loss: 0.6452 - acc: 0.6614\n",
      "Epoch 9/20\n",
      "756/756 [==============================] - 0s 98us/sample - loss: 0.6375 - acc: 0.6376\n",
      "Epoch 10/20\n",
      "756/756 [==============================] - 0s 95us/sample - loss: 0.6273 - acc: 0.7513\n",
      "Epoch 11/20\n",
      "756/756 [==============================] - 0s 104us/sample - loss: 0.6156 - acc: 0.7884\n",
      "Epoch 12/20\n",
      "756/756 [==============================] - 0s 110us/sample - loss: 0.6074 - acc: 0.7817\n",
      "Epoch 13/20\n",
      "756/756 [==============================] - 0s 98us/sample - loss: 0.5962 - acc: 0.7659\n",
      "Epoch 14/20\n",
      "756/756 [==============================] - 0s 86us/sample - loss: 0.5845 - acc: 0.8585\n",
      "Epoch 15/20\n",
      "756/756 [==============================] - 0s 93us/sample - loss: 0.5737 - acc: 0.7712\n",
      "Epoch 16/20\n",
      "756/756 [==============================] - 0s 94us/sample - loss: 0.5605 - acc: 0.8545\n",
      "Epoch 17/20\n",
      "756/756 [==============================] - 0s 73us/sample - loss: 0.5525 - acc: 0.9021\n",
      "Epoch 18/20\n",
      "756/756 [==============================] - 0s 75us/sample - loss: 0.5376 - acc: 0.8108\n",
      "Epoch 19/20\n",
      "756/756 [==============================] - 0s 101us/sample - loss: 0.5270 - acc: 0.8981\n",
      "Epoch 20/20\n",
      "756/756 [==============================] - 0s 91us/sample - loss: 0.5146 - acc: 0.8307\n"
     ]
    },
    {
     "data": {
      "text/plain": [
       "<tensorflow.python.keras.callbacks.History at 0x25d16452358>"
      ]
     },
     "execution_count": 61,
     "metadata": {},
     "output_type": "execute_result"
    }
   ],
   "source": [
    "# Fitting the data; 10 iterations\n",
    "model2.fit(x_train.values, y_train.values, epochs = 20)"
   ]
  },
  {
   "cell_type": "code",
   "execution_count": 62,
   "metadata": {},
   "outputs": [
    {
     "name": "stdout",
     "output_type": "stream",
     "text": [
      "324/324 [==============================] - 0s 176us/sample - loss: 0.5001 - acc: 0.9012\n",
      "\n",
      "Test Data Loss: 0.5001140420819506\n",
      "\n",
      "Test Data Accuracy: 90.123%\n"
     ]
    }
   ],
   "source": [
    "# Evaluating the test dataset\n",
    "eval_array2 = model2.evaluate(x_test, y_test)\n",
    "\n",
    "print(\"\\nTest Data Loss: {}\".format(eval_array2[0]))\n",
    "print(\"\\nTest Data Accuracy: {:.5}%\".format(eval_array2[1] * 100))"
   ]
  },
  {
   "cell_type": "markdown",
   "metadata": {},
   "source": [
    "### Confusion Matrix 2"
   ]
  },
  {
   "cell_type": "code",
   "execution_count": null,
   "metadata": {},
   "outputs": [],
   "source": [
    "pd.crosstab(y_pred_actual['y_actual'], y_pred_actual['y_predicted'], rownames=['Actual'],colnames=['Predicted'], margins = True)"
   ]
  },
  {
   "cell_type": "code",
   "execution_count": null,
   "metadata": {},
   "outputs": [],
   "source": [
    "my_conf_matrix2 = my_con(y_pred_actual['y_actual'],y_pred_actual['y_predicted'])\n",
    "my_conf_matrix2"
   ]
  },
  {
   "cell_type": "code",
   "execution_count": 63,
   "metadata": {},
   "outputs": [],
   "source": [
    "from sklearn.model_selection import KFold\n",
    "from sklearn.preprocessing import MinMaxScaler\n",
    "from sklearn.svm import SVR\n",
    "from sklearn.linear_model import LogisticRegression\n",
    "from sklearn import metrics, cross_validation, preprocessing"
   ]
  },
  {
   "cell_type": "code",
   "execution_count": 64,
   "metadata": {},
   "outputs": [
    {
     "data": {
      "text/plain": [
       "Date           False\n",
       "High           False\n",
       "Low            False\n",
       "Open           False\n",
       "Close          False\n",
       "Volume         False\n",
       "Adj Close      False\n",
       "1day_Lag       False\n",
       "1day_target    False\n",
       "dtype: bool"
      ]
     },
     "execution_count": 64,
     "metadata": {},
     "output_type": "execute_result"
    }
   ],
   "source": [
    "df.isna().any()"
   ]
  },
  {
   "cell_type": "markdown",
   "metadata": {},
   "source": [
    "### 10 Fold Cross Validation Neural Net (Deep)"
   ]
  },
  {
   "cell_type": "code",
   "execution_count": 101,
   "metadata": {},
   "outputs": [],
   "source": [
    "X = df.iloc[:, [1, 2, 3, 4, 5, 6]]"
   ]
  },
  {
   "cell_type": "code",
   "execution_count": 66,
   "metadata": {},
   "outputs": [],
   "source": [
    "#X = X.replace([np.inf, -np.inf], np.nan)\n",
    "#X.fillna(0, inplace = True)"
   ]
  },
  {
   "cell_type": "code",
   "execution_count": 67,
   "metadata": {},
   "outputs": [],
   "source": [
    "y = df['1day_target']"
   ]
  },
  {
   "cell_type": "code",
   "execution_count": 68,
   "metadata": {},
   "outputs": [],
   "source": [
    "y = y.replace([np.inf, -np.inf], np.nan)\n",
    "y.fillna(0, inplace = True)"
   ]
  },
  {
   "cell_type": "code",
   "execution_count": 69,
   "metadata": {},
   "outputs": [],
   "source": [
    "SEED = 23"
   ]
  },
  {
   "cell_type": "markdown",
   "metadata": {},
   "source": [
    "XEncoded = encoder.transform(X)"
   ]
  },
  {
   "cell_type": "markdown",
   "metadata": {},
   "source": [
    "#### model 1"
   ]
  },
  {
   "cell_type": "code",
   "execution_count": 157,
   "metadata": {},
   "outputs": [
    {
     "name": "stdout",
     "output_type": "stream",
     "text": [
      "864/864 [==============================] - 2s 2ms/sample - loss: 0.0425 - acc: 0.9780\n",
      "216/216 [==============================] - 0s 1ms/sample - loss: 0.0207 - acc: 0.9954\n",
      "AUC (fold 1/10): 1.000000\n",
      "864/864 [==============================] - 0s 129us/sample - loss: 0.0319 - acc: 0.9884\n",
      "216/216 [==============================] - 0s 105us/sample - loss: 0.0219 - acc: 1.0000\n",
      "AUC (fold 2/10): 1.000000\n",
      "864/864 [==============================] - 0s 107us/sample - loss: 0.0242 - acc: 0.9907\n",
      "216/216 [==============================] - 0s 68us/sample - loss: 0.0176 - acc: 1.0000\n",
      "AUC (fold 3/10): 1.000000\n",
      "864/864 [==============================] - 0s 113us/sample - loss: 0.0272 - acc: 0.9907\n",
      "216/216 [==============================] - 0s 0s/sample - loss: 0.0187 - acc: 0.9954\n",
      "AUC (fold 4/10): 1.000000\n",
      "864/864 [==============================] - 0s 122us/sample - loss: 0.0249 - acc: 0.9942\n",
      "216/216 [==============================] - 0s 79us/sample - loss: 0.0273 - acc: 0.9907\n",
      "AUC (fold 5/10): 1.000000\n",
      "864/864 [==============================] - 0s 164us/sample - loss: 0.0257 - acc: 0.9931\n",
      "216/216 [==============================] - 0s 93us/sample - loss: 0.0171 - acc: 1.0000\n",
      "AUC (fold 6/10): 1.000000\n",
      "864/864 [==============================] - 0s 134us/sample - loss: 0.0275 - acc: 0.9896\n",
      "216/216 [==============================] - 0s 51us/sample - loss: 0.0260 - acc: 0.9861\n",
      "AUC (fold 7/10): 1.000000\n",
      "864/864 [==============================] - 0s 177us/sample - loss: 0.0357 - acc: 0.9861\n",
      "216/216 [==============================] - 0s 75us/sample - loss: 0.0119 - acc: 0.9954\n",
      "AUC (fold 8/10): 1.000000\n",
      "864/864 [==============================] - 0s 154us/sample - loss: 0.0283 - acc: 0.9884\n",
      "216/216 [==============================] - 0s 163us/sample - loss: 0.0216 - acc: 0.9954\n",
      "AUC (fold 9/10): 1.000000\n",
      "864/864 [==============================] - 0s 165us/sample - loss: 0.0270 - acc: 0.9907\n",
      "216/216 [==============================] - 0s 78us/sample - loss: 0.0184 - acc: 0.9907\n",
      "AUC (fold 10/10): 1.000000\n",
      "Mean AUC: 1.000000\n",
      "[99.53703880310059, 100.0, 100.0, 99.53703880310059, 99.0740716457367, 100.0, 98.61111044883728, 99.53703880310059, 99.53703880310059, 99.0740716457367]\n"
     ]
    }
   ],
   "source": [
    "axx = []\n",
    "mean_auc = 0.0\n",
    "n = 10  # repeat the CV procedure 10 times to get more precise results\n",
    "for i in range(n):\n",
    "    # for each iteration, randomly hold out 20% of the data as CV set\n",
    "    X_train, X_cv, y_train, y_cv = cross_validation.train_test_split(frame['x_features'], frame['y_target'], test_size=.20, random_state=i*SEED)\n",
    "\n",
    "    # train model and make predictions\n",
    "    model.fit(X_train, y_train) \n",
    "    preds = model.predict_proba(X_cv)\n",
    "    evals = model.evaluate(X_cv, y_cv)\n",
    "    axx.append(evals[1] * 100)\n",
    "\n",
    "    # compute AUC metric for this CV fold\n",
    "    fpr, tpr, thresholds = metrics.roc_curve(y_cv, preds)\n",
    "    roc_auc = metrics.auc(fpr, tpr)\n",
    "    print(\"AUC (fold %d/%d): %f\"%(i + 1, n, roc_auc))\n",
    "    mean_auc += roc_auc\n",
    "\n",
    "print(\"Mean AUC: %f\"%(mean_auc/n))\n",
    "print(axx)"
   ]
  },
  {
   "cell_type": "markdown",
   "metadata": {},
   "source": [
    "### Model 2"
   ]
  },
  {
   "cell_type": "code",
   "execution_count": 146,
   "metadata": {},
   "outputs": [
    {
     "name": "stdout",
     "output_type": "stream",
     "text": [
      "864/864 [==============================] - 0s 91us/sample - loss: 0.1160 - acc: 0.9815\n",
      "216/216 [==============================] - 0s 65us/sample - loss: 0.0979 - acc: 0.9861\n",
      "AUC (fold 1/10): 1.000000\n",
      "864/864 [==============================] - 0s 139us/sample - loss: 0.1137 - acc: 0.9792\n",
      "216/216 [==============================] - 0s 125us/sample - loss: 0.1005 - acc: 0.9954\n",
      "AUC (fold 2/10): 1.000000\n",
      "864/864 [==============================] - 0s 96us/sample - loss: 0.1110 - acc: 0.9850\n",
      "216/216 [==============================] - 0s 74us/sample - loss: 0.0981 - acc: 0.9815\n",
      "AUC (fold 3/10): 1.000000\n",
      "864/864 [==============================] - 0s 100us/sample - loss: 0.1140 - acc: 0.9838\n",
      "216/216 [==============================] - 0s 65us/sample - loss: 0.0907 - acc: 0.9954\n",
      "AUC (fold 4/10): 1.000000\n",
      "864/864 [==============================] - 0s 85us/sample - loss: 0.1055 - acc: 0.9884\n",
      "216/216 [==============================] - 0s 42us/sample - loss: 0.1207 - acc: 0.9907\n",
      "AUC (fold 5/10): 1.000000\n",
      "864/864 [==============================] - 0s 49us/sample - loss: 0.1057 - acc: 0.9780\n",
      "216/216 [==============================] - 0s 162us/sample - loss: 0.1146 - acc: 0.9815\n",
      "AUC (fold 6/10): 1.000000\n",
      "864/864 [==============================] - 0s 73us/sample - loss: 0.1122 - acc: 0.9780\n",
      "216/216 [==============================] - 0s 116us/sample - loss: 0.1042 - acc: 0.9861\n",
      "AUC (fold 7/10): 1.000000\n",
      "864/864 [==============================] - 0s 100us/sample - loss: 0.1090 - acc: 0.9838\n",
      "216/216 [==============================] - 0s 93us/sample - loss: 0.0844 - acc: 1.0000\n",
      "AUC (fold 8/10): 1.000000\n",
      "864/864 [==============================] - 0s 128us/sample - loss: 0.1027 - acc: 0.9826\n",
      "216/216 [==============================] - 0s 51us/sample - loss: 0.1123 - acc: 0.9907\n",
      "AUC (fold 9/10): 1.000000\n",
      "864/864 [==============================] - 0s 97us/sample - loss: 0.1104 - acc: 0.9745\n",
      "216/216 [==============================] - 0s 46us/sample - loss: 0.1030 - acc: 1.0000\n",
      "AUC (fold 10/10): 1.000000\n",
      "Mean AUC: 1.000000\n",
      "[98.61111044883728, 99.53703880310059, 98.14814925193787, 99.53703880310059, 99.0740716457367, 98.14814925193787, 98.61111044883728, 100.0, 99.0740716457367, 100.0]\n"
     ]
    }
   ],
   "source": [
    "axx2 = []\n",
    "mean_auc = 0.0\n",
    "n = 10  # repeat the CV procedure 10 times to get more precise results\n",
    "for i in range(n):\n",
    "    # for each iteration, randomly hold out 20% of the data as CV set\n",
    "    X_train, X_cv, y_train, y_cv = cross_validation.train_test_split(frame['x_features'], frame['y_target'], test_size=.20, random_state=i*SEED)\n",
    "\n",
    "    # train model and make predictions\n",
    "    model2.fit(X_train, y_train) \n",
    "    preds = model2.predict_proba(X_cv)\n",
    "    evals = model2.evaluate(X_cv, y_cv)\n",
    "    axx2.append(evals[1] * 100)\n",
    "\n",
    "    # compute AUC metric for this CV fold\n",
    "    fpr, tpr, thresholds = metrics.roc_curve(y_cv, preds)\n",
    "    roc_auc = metrics.auc(fpr, tpr)\n",
    "    print(\"AUC (fold %d/%d): %f\"%(i + 1, n, roc_auc))\n",
    "    mean_auc += roc_auc\n",
    "\n",
    "print(\"Mean AUC: %f\"%(mean_auc/n))\n",
    "print(axx2)"
   ]
  },
  {
   "cell_type": "markdown",
   "metadata": {},
   "source": [
    "### Logistic Regression "
   ]
  },
  {
   "cell_type": "code",
   "execution_count": 158,
   "metadata": {},
   "outputs": [],
   "source": [
    "clf= LogisticRegression()"
   ]
  },
  {
   "cell_type": "markdown",
   "metadata": {},
   "source": [
    "### 10 fold cross Validation LR"
   ]
  },
  {
   "cell_type": "code",
   "execution_count": 159,
   "metadata": {},
   "outputs": [
    {
     "name": "stdout",
     "output_type": "stream",
     "text": [
      "AUC (fold 1/10): 0.434228\n",
      "AUC (fold 2/10): 0.506330\n",
      "AUC (fold 3/10): 0.444734\n",
      "AUC (fold 4/10): 0.493248\n",
      "AUC (fold 5/10): 0.470126\n",
      "AUC (fold 6/10): 0.440634\n",
      "AUC (fold 7/10): 0.487676\n",
      "AUC (fold 8/10): 0.478879\n",
      "AUC (fold 9/10): 0.448831\n",
      "AUC (fold 10/10): 0.489153\n",
      "Mean AUC: 0.469384\n"
     ]
    }
   ],
   "source": [
    "axx3 = []\n",
    "mean_auc = 0.0\n",
    "n = 10  # repeat the CV procedure 10 times to get more precise results\n",
    "for i in range(n):\n",
    "    # for each iteration, randomly hold out 20% of the data as CV set\n",
    "    X_train, X_cv, y_train, y_cv = cross_validation.train_test_split(df[['Adj Close']], df['1day_target'], test_size=.20, random_state=i*SEED)\n",
    "\n",
    "    # train model and make predictions\n",
    "    clf.fit(X_train, y_train) \n",
    "    preds = clf.predict_proba(X_cv)[:, 1]\n",
    "\n",
    "    # compute AUC metric for this CV fold\n",
    "    fpr, tpr, thresholds = metrics.roc_curve(y_cv, preds)\n",
    "    roc_auc = metrics.auc(fpr, tpr)\n",
    "    axx3.append(roc_auc)\n",
    "    print(\"AUC (fold %d/%d): %f\"%(i + 1, n, roc_auc))\n",
    "    mean_auc += roc_auc\n",
    "\n",
    "print(\"Mean AUC: %f\"%(mean_auc/n))"
   ]
  },
  {
   "cell_type": "code",
   "execution_count": null,
   "metadata": {},
   "outputs": [],
   "source": []
  }
 ],
 "metadata": {
  "kernelspec": {
   "display_name": "Python 3",
   "language": "python",
   "name": "python3"
  },
  "language_info": {
   "codemirror_mode": {
    "name": "ipython",
    "version": 3
   },
   "file_extension": ".py",
   "mimetype": "text/x-python",
   "name": "python",
   "nbconvert_exporter": "python",
   "pygments_lexer": "ipython3",
   "version": "3.6.3"
  }
 },
 "nbformat": 4,
 "nbformat_minor": 2
}
