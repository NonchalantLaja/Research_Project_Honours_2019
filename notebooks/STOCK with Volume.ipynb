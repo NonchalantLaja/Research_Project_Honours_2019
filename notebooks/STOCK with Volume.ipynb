{
 "cells": [
  {
   "cell_type": "code",
   "execution_count": 1,
   "metadata": {},
   "outputs": [],
   "source": [
    "import numpy as np\n",
    "import pandas as pd\n",
    "import matplotlib.pyplot as plt\n",
    "from collections import Counter\n",
    "import datetime\n",
    "from matplotlib import style\n",
    "style.use('ggplot')\n",
    "import math\n",
    "from sklearn import preprocessing\n",
    "from sklearn.linear_model import LinearRegression\n",
    "import warnings\n",
    "warnings.filterwarnings('ignore')"
   ]
  },
  {
   "cell_type": "code",
   "execution_count": 2,
   "metadata": {},
   "outputs": [],
   "source": [
    "df = pd.read_csv('C:/Users/Olatomiwa/Documents/SOL PLAATJE UNIVERSITY/HONOURS 2019/RESEARCH/From Supervisor Dr Mosia/first_yahoo_prices_volumes.csv')"
   ]
  },
  {
   "cell_type": "code",
   "execution_count": 3,
   "metadata": {},
   "outputs": [],
   "source": [
    "# takes the 7 day percent changes for the prices in the future\n",
    "def gain_fall(*args): # *args lets us pass any parameters, any number of arguments which becomes an iterable\n",
    "    cols = [c for c in args] # passing each column mapping it row wise\n",
    "    for col in cols:\n",
    "        if(col > 0):\n",
    "            return(1)   # GAIN\n",
    "        if(col < 0):\n",
    "            return(0)# FALL"
   ]
  },
  {
   "cell_type": "code",
   "execution_count": 4,
   "metadata": {},
   "outputs": [
    {
     "data": {
      "text/html": [
       "<div>\n",
       "<style scoped>\n",
       "    .dataframe tbody tr th:only-of-type {\n",
       "        vertical-align: middle;\n",
       "    }\n",
       "\n",
       "    .dataframe tbody tr th {\n",
       "        vertical-align: top;\n",
       "    }\n",
       "\n",
       "    .dataframe thead th {\n",
       "        text-align: right;\n",
       "    }\n",
       "</style>\n",
       "<table border=\"1\" class=\"dataframe\">\n",
       "  <thead>\n",
       "    <tr style=\"text-align: right;\">\n",
       "      <th></th>\n",
       "      <th>Date</th>\n",
       "      <th>High</th>\n",
       "      <th>Low</th>\n",
       "      <th>Open</th>\n",
       "      <th>Close</th>\n",
       "      <th>Volume</th>\n",
       "      <th>Adj Close</th>\n",
       "      <th>1day_Lag</th>\n",
       "      <th>1day_target</th>\n",
       "    </tr>\n",
       "  </thead>\n",
       "  <tbody>\n",
       "    <tr>\n",
       "      <th>0</th>\n",
       "      <td>2014-09-10</td>\n",
       "      <td>19.680000</td>\n",
       "      <td>19.430000</td>\n",
       "      <td>19.650000</td>\n",
       "      <td>19.610001</td>\n",
       "      <td>4309400.0</td>\n",
       "      <td>18.881136</td>\n",
       "      <td>-0.010199</td>\n",
       "      <td>0.0</td>\n",
       "    </tr>\n",
       "    <tr>\n",
       "      <th>1</th>\n",
       "      <td>2014-09-11</td>\n",
       "      <td>19.540001</td>\n",
       "      <td>19.200001</td>\n",
       "      <td>19.469999</td>\n",
       "      <td>19.410000</td>\n",
       "      <td>6268000.0</td>\n",
       "      <td>18.688570</td>\n",
       "      <td>-0.014941</td>\n",
       "      <td>0.0</td>\n",
       "    </tr>\n",
       "    <tr>\n",
       "      <th>2</th>\n",
       "      <td>2014-09-12</td>\n",
       "      <td>19.530001</td>\n",
       "      <td>19.100000</td>\n",
       "      <td>19.530001</td>\n",
       "      <td>19.120001</td>\n",
       "      <td>6563400.0</td>\n",
       "      <td>18.409348</td>\n",
       "      <td>-0.013598</td>\n",
       "      <td>0.0</td>\n",
       "    </tr>\n",
       "    <tr>\n",
       "      <th>3</th>\n",
       "      <td>2014-09-15</td>\n",
       "      <td>19.209999</td>\n",
       "      <td>18.780001</td>\n",
       "      <td>19.180000</td>\n",
       "      <td>18.860001</td>\n",
       "      <td>7353800.0</td>\n",
       "      <td>18.159008</td>\n",
       "      <td>0.014846</td>\n",
       "      <td>1.0</td>\n",
       "    </tr>\n",
       "    <tr>\n",
       "      <th>4</th>\n",
       "      <td>2014-09-16</td>\n",
       "      <td>19.240000</td>\n",
       "      <td>18.750000</td>\n",
       "      <td>18.809999</td>\n",
       "      <td>19.139999</td>\n",
       "      <td>5498400.0</td>\n",
       "      <td>18.428604</td>\n",
       "      <td>0.000523</td>\n",
       "      <td>1.0</td>\n",
       "    </tr>\n",
       "  </tbody>\n",
       "</table>\n",
       "</div>"
      ],
      "text/plain": [
       "         Date       High        Low       Open      Close     Volume  \\\n",
       "0  2014-09-10  19.680000  19.430000  19.650000  19.610001  4309400.0   \n",
       "1  2014-09-11  19.540001  19.200001  19.469999  19.410000  6268000.0   \n",
       "2  2014-09-12  19.530001  19.100000  19.530001  19.120001  6563400.0   \n",
       "3  2014-09-15  19.209999  18.780001  19.180000  18.860001  7353800.0   \n",
       "4  2014-09-16  19.240000  18.750000  18.809999  19.139999  5498400.0   \n",
       "\n",
       "   Adj Close  1day_Lag  1day_target  \n",
       "0  18.881136 -0.010199          0.0  \n",
       "1  18.688570 -0.014941          0.0  \n",
       "2  18.409348 -0.013598          0.0  \n",
       "3  18.159008  0.014846          1.0  \n",
       "4  18.428604  0.000523          1.0  "
      ]
     },
     "execution_count": 4,
     "metadata": {},
     "output_type": "execute_result"
    }
   ],
   "source": [
    "df['1day_Lag'] = (df['Adj Close'].shift(-1) - df['Adj Close']) / df['Adj Close']\n",
    "# .shift shifts up to get the future value old - new divided by \n",
    "        \n",
    "df['1day_target'] = list(map(gain_fall, *[df['1day_Lag']]))\n",
    "\n",
    "df.dropna(inplace = True)\n",
    "df.head()"
   ]
  },
  {
   "cell_type": "code",
   "execution_count": 5,
   "metadata": {},
   "outputs": [
    {
     "data": {
      "text/plain": [
       "0    0.0\n",
       "1    0.0\n",
       "2    0.0\n",
       "3    0.0\n",
       "4    1.0\n",
       "Name: 1day_target, dtype: float64"
      ]
     },
     "execution_count": 5,
     "metadata": {},
     "output_type": "execute_result"
    }
   ],
   "source": [
    "df['1day_target'] = df['1day_target'].shift(1)\n",
    "df['1day_target'].fillna(0, inplace = True)\n",
    "df['1day_target'].head()"
   ]
  },
  {
   "cell_type": "code",
   "execution_count": 6,
   "metadata": {},
   "outputs": [
    {
     "name": "stdout",
     "output_type": "stream",
     "text": [
      "Data spread:  Counter({'1.0': 584, '0.0': 497})\n"
     ]
    }
   ],
   "source": [
    "# The distribution of the 1day_target mapping\n",
    "vals = df['1day_target'].values #.tolist optional \n",
    "str_vals = [str(i) for i in vals]\n",
    "\n",
    "print('Data spread: ', Counter(str_vals)) # seeing th way in which buys/sell/hold are distributed"
   ]
  },
  {
   "cell_type": "code",
   "execution_count": 7,
   "metadata": {},
   "outputs": [
    {
     "data": {
      "text/html": [
       "<div>\n",
       "<style scoped>\n",
       "    .dataframe tbody tr th:only-of-type {\n",
       "        vertical-align: middle;\n",
       "    }\n",
       "\n",
       "    .dataframe tbody tr th {\n",
       "        vertical-align: top;\n",
       "    }\n",
       "\n",
       "    .dataframe thead th {\n",
       "        text-align: right;\n",
       "    }\n",
       "</style>\n",
       "<table border=\"1\" class=\"dataframe\">\n",
       "  <thead>\n",
       "    <tr style=\"text-align: right;\">\n",
       "      <th></th>\n",
       "      <th>returns</th>\n",
       "      <th>volume</th>\n",
       "      <th>y_target</th>\n",
       "    </tr>\n",
       "  </thead>\n",
       "  <tbody>\n",
       "    <tr>\n",
       "      <th>1</th>\n",
       "      <td>-0.010199</td>\n",
       "      <td>6268000.0</td>\n",
       "      <td>0.0</td>\n",
       "    </tr>\n",
       "    <tr>\n",
       "      <th>2</th>\n",
       "      <td>-0.014941</td>\n",
       "      <td>6563400.0</td>\n",
       "      <td>0.0</td>\n",
       "    </tr>\n",
       "    <tr>\n",
       "      <th>3</th>\n",
       "      <td>-0.013598</td>\n",
       "      <td>7353800.0</td>\n",
       "      <td>0.0</td>\n",
       "    </tr>\n",
       "    <tr>\n",
       "      <th>4</th>\n",
       "      <td>0.014846</td>\n",
       "      <td>5498400.0</td>\n",
       "      <td>1.0</td>\n",
       "    </tr>\n",
       "    <tr>\n",
       "      <th>5</th>\n",
       "      <td>0.000523</td>\n",
       "      <td>4339600.0</td>\n",
       "      <td>1.0</td>\n",
       "    </tr>\n",
       "  </tbody>\n",
       "</table>\n",
       "</div>"
      ],
      "text/plain": [
       "    returns     volume  y_target\n",
       "1 -0.010199  6268000.0       0.0\n",
       "2 -0.014941  6563400.0       0.0\n",
       "3 -0.013598  7353800.0       0.0\n",
       "4  0.014846  5498400.0       1.0\n",
       "5  0.000523  4339600.0       1.0"
      ]
     },
     "execution_count": 7,
     "metadata": {},
     "output_type": "execute_result"
    }
   ],
   "source": [
    "data = {'returns': df['Adj Close'].pct_change(), 'volume': df['Volume'],\n",
    "                     'y_target': df['1day_target']}\n",
    "frame = pd.DataFrame(data)\n",
    "frame.dropna(inplace = True)\n",
    "frame.head()"
   ]
  },
  {
   "cell_type": "markdown",
   "metadata": {},
   "source": [
    "# Tensorflow Probability"
   ]
  },
  {
   "cell_type": "code",
   "execution_count": 8,
   "metadata": {},
   "outputs": [],
   "source": [
    "import tensorflow as tf\n",
    "from tensorflow.keras.models import Sequential\n",
    "from tensorflow.keras.layers import Flatten\n",
    "from tensorflow.keras.layers import Dense\n",
    "from tensorflow.keras.layers import Dropout\n",
    "import tensorflow_probability as tfp"
   ]
  },
  {
   "cell_type": "code",
   "execution_count": 9,
   "metadata": {},
   "outputs": [],
   "source": [
    "from sklearn.model_selection import train_test_split\n",
    "from sklearn.metrics import accuracy_score"
   ]
  },
  {
   "cell_type": "code",
   "execution_count": 10,
   "metadata": {},
   "outputs": [
    {
     "data": {
      "text/html": [
       "<div>\n",
       "<style scoped>\n",
       "    .dataframe tbody tr th:only-of-type {\n",
       "        vertical-align: middle;\n",
       "    }\n",
       "\n",
       "    .dataframe tbody tr th {\n",
       "        vertical-align: top;\n",
       "    }\n",
       "\n",
       "    .dataframe thead th {\n",
       "        text-align: right;\n",
       "    }\n",
       "</style>\n",
       "<table border=\"1\" class=\"dataframe\">\n",
       "  <thead>\n",
       "    <tr style=\"text-align: right;\">\n",
       "      <th></th>\n",
       "      <th>returns</th>\n",
       "      <th>volume</th>\n",
       "    </tr>\n",
       "  </thead>\n",
       "  <tbody>\n",
       "    <tr>\n",
       "      <th>1</th>\n",
       "      <td>-0.010199</td>\n",
       "      <td>6268000.0</td>\n",
       "    </tr>\n",
       "    <tr>\n",
       "      <th>2</th>\n",
       "      <td>-0.014941</td>\n",
       "      <td>6563400.0</td>\n",
       "    </tr>\n",
       "    <tr>\n",
       "      <th>3</th>\n",
       "      <td>-0.013598</td>\n",
       "      <td>7353800.0</td>\n",
       "    </tr>\n",
       "    <tr>\n",
       "      <th>4</th>\n",
       "      <td>0.014846</td>\n",
       "      <td>5498400.0</td>\n",
       "    </tr>\n",
       "    <tr>\n",
       "      <th>5</th>\n",
       "      <td>0.000523</td>\n",
       "      <td>4339600.0</td>\n",
       "    </tr>\n",
       "  </tbody>\n",
       "</table>\n",
       "</div>"
      ],
      "text/plain": [
       "    returns     volume\n",
       "1 -0.010199  6268000.0\n",
       "2 -0.014941  6563400.0\n",
       "3 -0.013598  7353800.0\n",
       "4  0.014846  5498400.0\n",
       "5  0.000523  4339600.0"
      ]
     },
     "execution_count": 10,
     "metadata": {},
     "output_type": "execute_result"
    }
   ],
   "source": [
    "features = frame[['returns', 'volume']]\n",
    "features.head()"
   ]
  },
  {
   "cell_type": "code",
   "execution_count": 11,
   "metadata": {},
   "outputs": [],
   "source": [
    "label = frame['y_target']"
   ]
  },
  {
   "cell_type": "code",
   "execution_count": 12,
   "metadata": {},
   "outputs": [],
   "source": [
    "# Using train_test_fit to create subsets for fitting and testing\n",
    "x_train, x_test, y_train, y_test = train_test_split(features, label, test_size = 0.2, random_state = 2, stratify = label)"
   ]
  },
  {
   "cell_type": "markdown",
   "metadata": {},
   "source": [
    "# Pretend to load synthetic data set.\n",
    "features = tfp.distributions.Normal(loc=0., scale=1.).sample(int(100e3))\n",
    "labels = tfp.distributions.Bernoulli(logits=1.618 * features).sample()"
   ]
  },
  {
   "cell_type": "code",
   "execution_count": 16,
   "metadata": {},
   "outputs": [],
   "source": [
    "model = Sequential([\n",
    "    # Flattening the input Layer into a vector because it is a matrix\n",
    "    Flatten(),\n",
    "    \n",
    "    Dense(500, activation = 'relu'),\n",
    "    \n",
    "    Dropout(0.20),\n",
    "    \n",
    "    #output layer with 1 neuron with the sigmoid function to counter for the 2 classes (1 or 0)\n",
    "    Dense(1, activation = 'sigmoid'), # or tf.nn.softmax\n",
    "       \n",
    "    tfp.layers.DenseFlipout(1)\n",
    "   # tfp.layers.VariationalGaussianProcess(num_inducing_points, kernel_provider) # Bayesian Loss Function\n",
    "    \n",
    "])"
   ]
  },
  {
   "cell_type": "code",
   "execution_count": null,
   "metadata": {},
   "outputs": [],
   "source": []
  }
 ],
 "metadata": {
  "kernelspec": {
   "display_name": "Python 3",
   "language": "python",
   "name": "python3"
  },
  "language_info": {
   "codemirror_mode": {
    "name": "ipython",
    "version": 3
   },
   "file_extension": ".py",
   "mimetype": "text/x-python",
   "name": "python",
   "nbconvert_exporter": "python",
   "pygments_lexer": "ipython3",
   "version": "3.6.3"
  }
 },
 "nbformat": 4,
 "nbformat_minor": 2
}
